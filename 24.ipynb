{
 "cells": [
  {
   "cell_type": "markdown",
   "id": "652ab264-25f8-4ad0-bde3-3c73deb37ead",
   "metadata": {},
   "source": [
    "### BH"
   ]
  },
  {
   "cell_type": "markdown",
   "id": "aa409d49-3fcd-4eb3-974d-4f7689612cc3",
   "metadata": {},
   "source": [
    "# DATA ANALYCT PROJECT"
   ]
  },
  {
   "cell_type": "markdown",
   "id": "b3afa742-4d82-495f-beee-7c9a427f51fb",
   "metadata": {},
   "source": [
    "#### Presented by: Dan Sayada, Shimon Yaffa and Eithan Lechsayer"
   ]
  },
  {
   "cell_type": "markdown",
   "id": "40bd0d0c-a210-40aa-9934-2f17bcd9e9bc",
   "metadata": {},
   "source": [
    "### our dataset: franchise500"
   ]
  },
  {
   "cell_type": "code",
   "execution_count": null,
   "id": "3cb2b475-f2e5-4dd5-9139-892cb8c57833",
   "metadata": {},
   "outputs": [],
   "source": []
  },
  {
   "cell_type": "code",
   "execution_count": 3,
   "id": "bd023b22-665a-491e-b21e-1ff24d8d924b",
   "metadata": {
    "tags": []
   },
   "outputs": [],
   "source": [
    "import numpy as np\n",
    "import pandas as pd\n",
    "import seaborn as sns\n",
    "import matplotlib.pyplot as plt\n",
    "from matplotlib.gridspec import GridSpec\n",
    "# from wordcloud import WordCloud, STOPWORDS\n",
    "import matplotlib.pyplot as plt\n",
    "from sklearn.model_selection import train_test_split"
   ]
  },
  {
   "cell_type": "code",
   "execution_count": null,
   "id": "02151688-4aca-45a8-9781-9d0a0b662131",
   "metadata": {},
   "outputs": [],
   "source": []
  },
  {
   "cell_type": "code",
   "execution_count": 4,
   "id": "1b016f43-89aa-499f-9847-821e8a435a4f",
   "metadata": {
    "tags": []
   },
   "outputs": [],
   "source": [
    "url= r\"https://raw.githubusercontent.com/ChadSim/firstPro/main/franchise500.csv\""
   ]
  },
  {
   "cell_type": "code",
   "execution_count": 5,
   "id": "1f91ec6c-0cbb-4a62-8a9f-167fb486e312",
   "metadata": {
    "tags": []
   },
   "outputs": [],
   "source": [
    "data=pd.read_csv(url, encoding=' latin-1')\n",
    "#data.head()\n"
   ]
  },
  {
   "cell_type": "code",
   "execution_count": 6,
   "id": "27ccb6d5-24ac-4de0-9199-e4f593400e03",
   "metadata": {
    "tags": []
   },
   "outputs": [
    {
     "data": {
      "text/plain": [
       "Index(['Entreupeneur Profile', '2016 Rank', 'Company', 'Category Detail',\n",
       "       'Franchise 500 Rank', 'Initial Investment', 'High',\n",
       "       'Change In Units 1 Yr', 'Change In Units 3 Yr', 'Founded',\n",
       "       'Franchising Since', 'Corporate Address', 'Ceo', 'Parent Company',\n",
       "       'About', 'Net Worth Requirement', 'Liquid Cash Requirement',\n",
       "       'Initial Franchise Fee', 'Financing Options', 'Veteran Incentives',\n",
       "       'Previous Ranks', 'Highest Rank', 'Lowest Rank',\n",
       "       'Where Seeking Franchisees', 'Operations'],\n",
       "      dtype='object')"
      ]
     },
     "execution_count": 6,
     "metadata": {},
     "output_type": "execute_result"
    }
   ],
   "source": [
    "data.columns"
   ]
  },
  {
   "cell_type": "code",
   "execution_count": 7,
   "id": "1686120b-d19a-40d4-89ad-a014b0b4ba15",
   "metadata": {
    "tags": []
   },
   "outputs": [
    {
     "data": {
      "text/plain": [
       "499"
      ]
     },
     "execution_count": 7,
     "metadata": {},
     "output_type": "execute_result"
    }
   ],
   "source": [
    "data['Ceo'].count()"
   ]
  },
  {
   "cell_type": "code",
   "execution_count": 8,
   "id": "7ebef9b3-c485-4ec1-9f9d-9e49544749ed",
   "metadata": {
    "tags": []
   },
   "outputs": [
    {
     "ename": "NameError",
     "evalue": "name 'WordCloud' is not defined",
     "output_type": "error",
     "traceback": [
      "\u001b[0;31m---------------------------------------------------------------------------\u001b[0m",
      "\u001b[0;31mNameError\u001b[0m                                 Traceback (most recent call last)",
      "\u001b[0;32m/var/folders/83/q0czyh392sg4dhb55y_9m5300000gn/T/ipykernel_1667/1901563914.py\u001b[0m in \u001b[0;36m<module>\u001b[0;34m\u001b[0m\n\u001b[1;32m      1\u001b[0m \u001b[0mtext\u001b[0m \u001b[0;34m=\u001b[0m \u001b[0;34m' '\u001b[0m\u001b[0;34m.\u001b[0m\u001b[0mjoin\u001b[0m\u001b[0;34m(\u001b[0m\u001b[0mdata\u001b[0m\u001b[0;34m[\u001b[0m\u001b[0;34m'Ceo'\u001b[0m\u001b[0;34m]\u001b[0m\u001b[0;34m.\u001b[0m\u001b[0mastype\u001b[0m\u001b[0;34m(\u001b[0m\u001b[0mstr\u001b[0m\u001b[0;34m)\u001b[0m\u001b[0;34m)\u001b[0m\u001b[0;34m\u001b[0m\u001b[0;34m\u001b[0m\u001b[0m\n\u001b[1;32m      2\u001b[0m \u001b[0;34m\u001b[0m\u001b[0m\n\u001b[0;32m----> 3\u001b[0;31m \u001b[0mwordcloud\u001b[0m \u001b[0;34m=\u001b[0m \u001b[0mWordCloud\u001b[0m\u001b[0;34m(\u001b[0m\u001b[0mwidth\u001b[0m\u001b[0;34m=\u001b[0m\u001b[0;36m800\u001b[0m\u001b[0;34m,\u001b[0m \u001b[0mheight\u001b[0m\u001b[0;34m=\u001b[0m\u001b[0;36m400\u001b[0m\u001b[0;34m,\u001b[0m \u001b[0mmax_words\u001b[0m\u001b[0;34m=\u001b[0m\u001b[0;36m150\u001b[0m\u001b[0;34m,\u001b[0m \u001b[0mbackground_color\u001b[0m\u001b[0;34m=\u001b[0m\u001b[0;34m'white'\u001b[0m\u001b[0;34m)\u001b[0m\u001b[0;34m.\u001b[0m\u001b[0mgenerate\u001b[0m\u001b[0;34m(\u001b[0m\u001b[0mtext\u001b[0m\u001b[0;34m)\u001b[0m\u001b[0;34m\u001b[0m\u001b[0;34m\u001b[0m\u001b[0m\n\u001b[0m\u001b[1;32m      4\u001b[0m \u001b[0;34m\u001b[0m\u001b[0m\n\u001b[1;32m      5\u001b[0m \u001b[0mplt\u001b[0m\u001b[0;34m.\u001b[0m\u001b[0mfigure\u001b[0m\u001b[0;34m(\u001b[0m\u001b[0mfigsize\u001b[0m\u001b[0;34m=\u001b[0m\u001b[0;34m(\u001b[0m\u001b[0;36m8\u001b[0m\u001b[0;34m,\u001b[0m \u001b[0;36m5\u001b[0m\u001b[0;34m)\u001b[0m\u001b[0;34m)\u001b[0m\u001b[0;34m\u001b[0m\u001b[0;34m\u001b[0m\u001b[0m\n",
      "\u001b[0;31mNameError\u001b[0m: name 'WordCloud' is not defined"
     ]
    }
   ],
   "source": [
    "text = ' '.join(data['Ceo'].astype(str))\n",
    "\n",
    "wordcloud = WordCloud(width=800, height=400, max_words=150, background_color='white').generate(text)\n",
    "\n",
    "plt.figure(figsize=(8, 5))\n",
    "plt.imshow(wordcloud, interpolation='bilinear')\n",
    "plt.axis('off')\n",
    "plt.show()\n"
   ]
  },
  {
   "cell_type": "code",
   "execution_count": null,
   "id": "9a068e27-5796-4fba-ba3e-94c6ba00ef32",
   "metadata": {},
   "outputs": [],
   "source": []
  },
  {
   "cell_type": "code",
   "execution_count": 9,
   "id": "f4d8e13e-e114-4533-a084-8a583056e370",
   "metadata": {
    "tags": []
   },
   "outputs": [
    {
     "data": {
      "text/plain": [
       "85"
      ]
     },
     "execution_count": 9,
     "metadata": {},
     "output_type": "execute_result"
    }
   ],
   "source": [
    "ceo_column = data['Ceo']\n",
    "count_names_starting_with_j = ceo_column.str.lower().str.startswith('j').sum()\n",
    "\n",
    "count_names_starting_with_j\n"
   ]
  },
  {
   "cell_type": "code",
   "execution_count": 10,
   "id": "1f37a56a-7f65-4193-b5c4-a5336a385c13",
   "metadata": {
    "tags": []
   },
   "outputs": [
    {
     "data": {
      "text/plain": [
       "25"
      ]
     },
     "execution_count": 10,
     "metadata": {},
     "output_type": "execute_result"
    }
   ],
   "source": [
    "count_names_starting_with_a = ceo_column.str.lower().str.startswith('a').sum()\n",
    "\n",
    "count_names_starting_with_a\n"
   ]
  },
  {
   "cell_type": "code",
   "execution_count": 11,
   "id": "36e7cf81-e610-4ce6-a02b-22bf84b09d34",
   "metadata": {
    "tags": []
   },
   "outputs": [
    {
     "data": {
      "text/plain": [
       "47"
      ]
     },
     "execution_count": 11,
     "metadata": {},
     "output_type": "execute_result"
    }
   ],
   "source": [
    "count_names_starting_with_s = ceo_column.str.lower().str.startswith('s').sum()\n",
    "\n",
    "count_names_starting_with_s\n"
   ]
  },
  {
   "cell_type": "code",
   "execution_count": null,
   "id": "beed184f-671d-4267-b98c-c4696c193bac",
   "metadata": {},
   "outputs": [],
   "source": []
  },
  {
   "cell_type": "code",
   "execution_count": 12,
   "id": "80666161-9a30-4b52-87e4-3064a8eb59f5",
   "metadata": {
    "tags": []
   },
   "outputs": [
    {
     "data": {
      "text/plain": [
       "'e'"
      ]
     },
     "execution_count": 12,
     "metadata": {},
     "output_type": "execute_result"
    }
   ],
   "source": [
    "from collections import Counter\n",
    "\n",
    "all_names = ''.join(data['Ceo'])\n",
    "\n",
    "letter_counts = Counter(all_names.lower())\n",
    "\n",
    "most_common_letter, most_common_count = letter_counts.most_common(1)[0]\n",
    "\n",
    "most_common_letter"
   ]
  },
  {
   "cell_type": "code",
   "execution_count": 13,
   "id": "80509df3-bff2-4821-80c1-73b482dc561d",
   "metadata": {
    "tags": []
   },
   "outputs": [
    {
     "data": {
      "text/plain": [
       "595"
      ]
     },
     "execution_count": 13,
     "metadata": {},
     "output_type": "execute_result"
    }
   ],
   "source": [
    "most_common_count\n"
   ]
  },
  {
   "cell_type": "markdown",
   "id": "dafb7681-1531-4d3e-960b-b4591cb93a04",
   "metadata": {
    "tags": []
   },
   "source": [
    "###################################################################################\n",
    "###################################################################################"
   ]
  },
  {
   "cell_type": "code",
   "execution_count": 14,
   "id": "3dbfb149-294b-4391-9a5f-0c6b3b672772",
   "metadata": {
    "tags": []
   },
   "outputs": [],
   "source": [
    "#url = 'https://raw.githubusercontent.com/ChadSim/firstPro/main/franchise500.csv'\n",
    "#data = pd.read_csv(url, encoding= 'latin1')"
   ]
  },
  {
   "cell_type": "code",
   "execution_count": 15,
   "id": "9d6fd6cc-4f52-4fd9-b257-3c0377e0b98a",
   "metadata": {
    "tags": []
   },
   "outputs": [],
   "source": [
    "data['Liquid Cash Requirement'] = data['Liquid Cash Requirement'].replace({'\\$':''}, regex = True)  \n",
    "data['Initial Franchise Fee'] = data['Initial Franchise Fee'].replace({'\\$':''}, regex = True)  \n",
    "data['Net Worth Requirement'] = data['Net Worth Requirement'].replace({'\\$':''}, regex = True) \n",
    "data['Initial Investment'] = data['Initial Investment'].replace({'\\$':''}, regex = True) \n",
    "data['High'] = data['High'].replace({'\\$':''}, regex = True) \n",
    "data['Net Worth Requirement'] = data['Net Worth Requirement'].replace({'\\$':''}, regex = True)"
   ]
  },
  {
   "cell_type": "code",
   "execution_count": 16,
   "id": "bffa0dee-0119-45a6-9b8d-a1ffc729263e",
   "metadata": {
    "tags": []
   },
   "outputs": [],
   "source": [
    "data[['Percentage1', 'Units1']] = data['Change In Units 1 Yr'].str.extract(r'([+-]?\\d*\\.\\d+|\\d+)%\\s*([+-]?\\d+)\\s*UNITS')\n",
    "data[['Percentage3', 'Units3']] = data['Change In Units 3 Yr'].str.extract(r'([+-]?\\d*\\.\\d+|\\d+)%\\s*([+-]?\\d+)\\s*UNITS')"
   ]
  },
  {
   "cell_type": "code",
   "execution_count": 18,
   "id": "2978ccdb-209e-45c4-9de6-a8216d6b1245",
   "metadata": {
    "tags": []
   },
   "outputs": [
    {
     "name": "stderr",
     "output_type": "stream",
     "text": [
      "/var/folders/83/q0czyh392sg4dhb55y_9m5300000gn/T/ipykernel_1667/871941720.py:1: FutureWarning: The default value of regex will change from True to False in a future version. In addition, single character regular expressions will *not* be treated as literal strings when regex=True.\n",
      "  data['Percentage1'] = data['Percentage1'].str.replace('+', '')\n",
      "/var/folders/83/q0czyh392sg4dhb55y_9m5300000gn/T/ipykernel_1667/871941720.py:2: FutureWarning: The default value of regex will change from True to False in a future version. In addition, single character regular expressions will *not* be treated as literal strings when regex=True.\n",
      "  data['Units1'] = data['Units1'].str.replace('+', '')\n",
      "/var/folders/83/q0czyh392sg4dhb55y_9m5300000gn/T/ipykernel_1667/871941720.py:3: FutureWarning: The default value of regex will change from True to False in a future version. In addition, single character regular expressions will *not* be treated as literal strings when regex=True.\n",
      "  data['Percentage3'] = data['Percentage3'].str.replace('+', '')\n",
      "/var/folders/83/q0czyh392sg4dhb55y_9m5300000gn/T/ipykernel_1667/871941720.py:4: FutureWarning: The default value of regex will change from True to False in a future version. In addition, single character regular expressions will *not* be treated as literal strings when regex=True.\n",
      "  data['Units3'] = data['Units3'].str.replace('+', '')\n"
     ]
    }
   ],
   "source": [
    "data['Percentage1'] = data['Percentage1'].str.replace('+', '')\n",
    "data['Units1'] = data['Units1'].str.replace('+', '')\n",
    "data['Percentage3'] = data['Percentage3'].str.replace('+', '')\n",
    "data['Units3'] = data['Units3'].str.replace('+', '')"
   ]
  },
  {
   "cell_type": "code",
   "execution_count": 19,
   "id": "ade7ec63-b6b0-4d43-b491-dd9aa4dd5f9a",
   "metadata": {
    "tags": []
   },
   "outputs": [
    {
     "data": {
      "text/html": [
       "<div>\n",
       "<style scoped>\n",
       "    .dataframe tbody tr th:only-of-type {\n",
       "        vertical-align: middle;\n",
       "    }\n",
       "\n",
       "    .dataframe tbody tr th {\n",
       "        vertical-align: top;\n",
       "    }\n",
       "\n",
       "    .dataframe thead th {\n",
       "        text-align: right;\n",
       "    }\n",
       "</style>\n",
       "<table border=\"1\" class=\"dataframe\">\n",
       "  <thead>\n",
       "    <tr style=\"text-align: right;\">\n",
       "      <th></th>\n",
       "      <th>nulls</th>\n",
       "    </tr>\n",
       "  </thead>\n",
       "  <tbody>\n",
       "    <tr>\n",
       "      <th>Entreupeneur Profile</th>\n",
       "      <td>0</td>\n",
       "    </tr>\n",
       "    <tr>\n",
       "      <th>2016 Rank</th>\n",
       "      <td>0</td>\n",
       "    </tr>\n",
       "    <tr>\n",
       "      <th>Company</th>\n",
       "      <td>0</td>\n",
       "    </tr>\n",
       "    <tr>\n",
       "      <th>Category Detail</th>\n",
       "      <td>0</td>\n",
       "    </tr>\n",
       "    <tr>\n",
       "      <th>Franchise 500 Rank</th>\n",
       "      <td>0</td>\n",
       "    </tr>\n",
       "    <tr>\n",
       "      <th>Initial Investment</th>\n",
       "      <td>0</td>\n",
       "    </tr>\n",
       "    <tr>\n",
       "      <th>High</th>\n",
       "      <td>1</td>\n",
       "    </tr>\n",
       "    <tr>\n",
       "      <th>Change In Units 1 Yr</th>\n",
       "      <td>134</td>\n",
       "    </tr>\n",
       "    <tr>\n",
       "      <th>Change In Units 3 Yr</th>\n",
       "      <td>117</td>\n",
       "    </tr>\n",
       "    <tr>\n",
       "      <th>Founded</th>\n",
       "      <td>0</td>\n",
       "    </tr>\n",
       "    <tr>\n",
       "      <th>Franchising Since</th>\n",
       "      <td>0</td>\n",
       "    </tr>\n",
       "    <tr>\n",
       "      <th>Corporate Address</th>\n",
       "      <td>0</td>\n",
       "    </tr>\n",
       "    <tr>\n",
       "      <th>Ceo</th>\n",
       "      <td>0</td>\n",
       "    </tr>\n",
       "    <tr>\n",
       "      <th>Parent Company</th>\n",
       "      <td>248</td>\n",
       "    </tr>\n",
       "    <tr>\n",
       "      <th>About</th>\n",
       "      <td>55</td>\n",
       "    </tr>\n",
       "    <tr>\n",
       "      <th>Net Worth Requirement</th>\n",
       "      <td>94</td>\n",
       "    </tr>\n",
       "    <tr>\n",
       "      <th>Liquid Cash Requirement</th>\n",
       "      <td>52</td>\n",
       "    </tr>\n",
       "    <tr>\n",
       "      <th>Initial Franchise Fee</th>\n",
       "      <td>6</td>\n",
       "    </tr>\n",
       "    <tr>\n",
       "      <th>Financing Options</th>\n",
       "      <td>41</td>\n",
       "    </tr>\n",
       "    <tr>\n",
       "      <th>Veteran Incentives</th>\n",
       "      <td>151</td>\n",
       "    </tr>\n",
       "    <tr>\n",
       "      <th>Previous Ranks</th>\n",
       "      <td>367</td>\n",
       "    </tr>\n",
       "    <tr>\n",
       "      <th>Highest Rank</th>\n",
       "      <td>132</td>\n",
       "    </tr>\n",
       "    <tr>\n",
       "      <th>Lowest Rank</th>\n",
       "      <td>132</td>\n",
       "    </tr>\n",
       "    <tr>\n",
       "      <th>Where Seeking Franchisees</th>\n",
       "      <td>128</td>\n",
       "    </tr>\n",
       "    <tr>\n",
       "      <th>Operations</th>\n",
       "      <td>9</td>\n",
       "    </tr>\n",
       "    <tr>\n",
       "      <th>Percentage1</th>\n",
       "      <td>134</td>\n",
       "    </tr>\n",
       "    <tr>\n",
       "      <th>Units1</th>\n",
       "      <td>134</td>\n",
       "    </tr>\n",
       "    <tr>\n",
       "      <th>Percentage3</th>\n",
       "      <td>117</td>\n",
       "    </tr>\n",
       "    <tr>\n",
       "      <th>Units3</th>\n",
       "      <td>117</td>\n",
       "    </tr>\n",
       "  </tbody>\n",
       "</table>\n",
       "</div>"
      ],
      "text/plain": [
       "                           nulls\n",
       "Entreupeneur Profile           0\n",
       "2016 Rank                      0\n",
       "Company                        0\n",
       "Category Detail                0\n",
       "Franchise 500 Rank             0\n",
       "Initial Investment             0\n",
       "High                           1\n",
       "Change In Units 1 Yr         134\n",
       "Change In Units 3 Yr         117\n",
       "Founded                        0\n",
       "Franchising Since              0\n",
       "Corporate Address              0\n",
       "Ceo                            0\n",
       "Parent Company               248\n",
       "About                         55\n",
       "Net Worth Requirement         94\n",
       "Liquid Cash Requirement       52\n",
       "Initial Franchise Fee          6\n",
       "Financing Options             41\n",
       "Veteran Incentives           151\n",
       "Previous Ranks               367\n",
       "Highest Rank                 132\n",
       "Lowest Rank                  132\n",
       "Where Seeking Franchisees    128\n",
       "Operations                     9\n",
       "Percentage1                  134\n",
       "Units1                       134\n",
       "Percentage3                  117\n",
       "Units3                       117"
      ]
     },
     "execution_count": 19,
     "metadata": {},
     "output_type": "execute_result"
    }
   ],
   "source": [
    "data.isnull().sum().to_frame('nulls')"
   ]
  },
  {
   "cell_type": "code",
   "execution_count": 20,
   "id": "7f093722-5265-4c1b-91c9-6133b866ed0c",
   "metadata": {
    "tags": []
   },
   "outputs": [],
   "source": [
    "new_data_1yr = data[['Franchise 500 Rank','Company', 'Percentage1', 'Units1', 'Initial Franchise Fee']].dropna().reset_index()\n",
    "new_data_3yr = data[['Franchise 500 Rank','Company', 'Percentage3', 'Units3', 'Initial Franchise Fee']].dropna().reset_index()\n"
   ]
  },
  {
   "cell_type": "code",
   "execution_count": 21,
   "id": "1fa1d351-04c6-4f07-a86f-3a7b0237c671",
   "metadata": {
    "tags": []
   },
   "outputs": [],
   "source": [
    "new_data_1yr['Units1'] = new_data_1yr['Units1'].fillna(0).astype(int)\n",
    "new_data_1yr['Percentage1'] = new_data_1yr['Percentage1'].fillna(0).astype(float)\n",
    "#new_data_1yr['Initial Franchise Fee'] = data['Initial Franchise Fee'].str.replace(',', '').astype(int)\n",
    "#new_data_1yr['Initial Franchise Fee'] = new_data_1yr['Initial Franchise Fee'].astype(int)"
   ]
  },
  {
   "cell_type": "code",
   "execution_count": 22,
   "id": "a69e2095-610e-4273-904c-3176f796650b",
   "metadata": {
    "tags": []
   },
   "outputs": [
    {
     "data": {
      "text/plain": [
       "array(['35,000 ', '75,000 ', '29,500 ', '46,000 ', '15,000 ', '45,000 ',\n",
       "       '10,000 - 1,000,000', '40,000 - 90,000', '19,000 - 37,500',\n",
       "       '25,000 ', '25,000 - 35,000', '40,000 ', '25,000 - 59,500',\n",
       "       '29,950 ', '15,000 - 37,500', '7,500 - 15,000', '2,520 - 44,000',\n",
       "       '495 - 10,495', '9,630 - 35,700', '20,000 ', '30,000 ',\n",
       "       '20,000 - 61,900', '6,000 ', '50,000 - 75,000', '4,590 - 32,348',\n",
       "       '21,500 ', '12,500 ', '19,950 ', '36,500 - 50,500', '495 - 9,800',\n",
       "       '25,000 - 25,500', '500 - 3,500', '18,500 ', '21,000 - 45,500',\n",
       "       '55,000 ', '3,000 ', '37,500 ', '49,500 ', '26,900 ', '1,250 ',\n",
       "       '20,000 - 33,750', '44,500 ', '995 - 46,995', '18,000 - 55,000',\n",
       "       '40,950 - 64,950', '14,900 ', '15,500 ', '3,975 - 39,750',\n",
       "       '18,900 ', '25,000 - 400,000', '57,500 ', '35,000 - 70,000',\n",
       "       '135,000 ', '24,500 ', '48,500 ', '15,000 - 40,000',\n",
       "       '12,500 - 25,000', '29,500 - 120,000', '15,000 - 35,000',\n",
       "       '39,900 - 49,900', '70,000 ', '26,000 - 27,500', '34,900 - 59,900',\n",
       "       '3,000 - 22,000', '24,750 - 49,500', '39,900 ', '44,700 - 59,700',\n",
       "       '8,500 ', '22,000 - 32,000', '15,000 - 85,000', '27,000 ',\n",
       "       '1,000 - 50,000', '46,500 ', '32,000 - 57,000', '9,500 - 28,500',\n",
       "       '22,500 ', '50,000 ', '7,200 - 45,000', '49,000 - 61,500',\n",
       "       '49,000 ', '39,000 ', '17,000 - 68,000', '24,000 ', '5,000 ',\n",
       "       '59,000 ', '32,000 - 65,000', '22,000 ', '49,900 ',\n",
       "       '25,000 - 55,000', '19,500 ', '44,900 - 49,900', '22,500 - 42,500',\n",
       "       '44,900 ', '33,900 ', '29,000 ', '15,000 - 30,000', '38,000 ',\n",
       "       '75,000 - 150,000', '40,000 - 50,000', '18,750 - 25,000',\n",
       "       '2,700 - 53,800', '20,000 - 50,000', '69,000 ', '10,000 ',\n",
       "       '42,000 ', '27,500 ', '15,000 - 27,500', '49,950 ',\n",
       "       '11,250 - 22,500', '10,000 - 30,000', '9,450 - 44,000', '120,000 ',\n",
       "       '19,750 - 34,750', '15,200 - 72,000', '125,000 ',\n",
       "       '15,000 - 20,000', '25,000 - 40,000', '29,900 - 44,900', '52,500 ',\n",
       "       '50,000 - 60,000', '25,000 - 49,000', '33,000 ', '32,475 - 64,950',\n",
       "       '17,600 - 65,000', '24,900 - 83,000', '15,000 - 42,000', '38,500 ',\n",
       "       '60,000 ', '7,500 ', '29,000 - 40,000', '10,000 - 100,000',\n",
       "       '24,000 - 55,000', '15,000 - 25,000', '11,400 - 31,900',\n",
       "       '14,900 - 39,900', '130,000 ', '6,999 ', '31,500 ',\n",
       "       '17,500 - 39,500', '34,500 ', '44,750 ', '20,000 - 35,000',\n",
       "       '20,000 - 25,000', '47,500 ', '48,000 ', '49,999 ', '30 ',\n",
       "       '59,900 ', '22,000 - 37,200', '34,900 ', '9,500 ', '37,750 ',\n",
       "       '5,900 - 150,500', '96,995 ', '19,900 ', '32,500 ', '32,000 ',\n",
       "       '8,000 ', '39,950 ', '6,000 - 30,000', '40,500 ', '46,450 ',\n",
       "       '17,500 ', '128,000 ', '5,000 - 35,000', '29,900 ',\n",
       "       '39,700 - 49,700', '45,000 - 85,000', '39,500 '], dtype=object)"
      ]
     },
     "execution_count": 22,
     "metadata": {},
     "output_type": "execute_result"
    }
   ],
   "source": [
    "new_data_1yr['Initial Franchise Fee'].unique()"
   ]
  },
  {
   "cell_type": "code",
   "execution_count": 23,
   "id": "93972b45-ff8e-4260-9fca-ecf9c5eeac45",
   "metadata": {
    "tags": []
   },
   "outputs": [],
   "source": [
    "# solution, we will transform all range values into singular values\n",
    "def process_franchise_fee(value):\n",
    "    if '-' in str(value):\n",
    "        # Handle ranges by calculating the average\n",
    "        start, end = map(float, value.replace(',', '').split('-'))\n",
    "        return (start + end) / 2\n",
    "    else:\n",
    "        # Keep numeric values as is\n",
    "        return float(value.replace(',', ''))\n",
    "\n",
    "# Create a new column 'Processed_Franchise_Fee' based on the custom function\n",
    "new_data_1yr['Processed_Franchise_Fee'] = new_data_1yr['Initial Franchise Fee'].apply(process_franchise_fee)\n",
    "\n",
    "# Display the modified DataFrame\n"
   ]
  },
  {
   "cell_type": "code",
   "execution_count": 24,
   "id": "8bfa61a3-4e43-4770-a039-cb3a16503b47",
   "metadata": {
    "tags": []
   },
   "outputs": [],
   "source": [
    "new_data_1yr['Processed_Franchise_Fee'] = new_data_1yr['Processed_Franchise_Fee'].astype(int)\n"
   ]
  },
  {
   "cell_type": "code",
   "execution_count": 25,
   "id": "05a09a5d-16fa-4b70-8ff1-822a0bf279be",
   "metadata": {
    "tags": []
   },
   "outputs": [
    {
     "data": {
      "text/html": [
       "<div>\n",
       "<style scoped>\n",
       "    .dataframe tbody tr th:only-of-type {\n",
       "        vertical-align: middle;\n",
       "    }\n",
       "\n",
       "    .dataframe tbody tr th {\n",
       "        vertical-align: top;\n",
       "    }\n",
       "\n",
       "    .dataframe thead th {\n",
       "        text-align: right;\n",
       "    }\n",
       "</style>\n",
       "<table border=\"1\" class=\"dataframe\">\n",
       "  <thead>\n",
       "    <tr style=\"text-align: right;\">\n",
       "      <th></th>\n",
       "      <th>index</th>\n",
       "      <th>Franchise 500 Rank</th>\n",
       "      <th>Company</th>\n",
       "      <th>Percentage3</th>\n",
       "      <th>Units3</th>\n",
       "      <th>Initial Franchise Fee</th>\n",
       "      <th>Processed_Franchise_Fee</th>\n",
       "    </tr>\n",
       "  </thead>\n",
       "  <tbody>\n",
       "    <tr>\n",
       "      <th>0</th>\n",
       "      <td>0</td>\n",
       "      <td>#1 Franchise 500</td>\n",
       "      <td>Jimmy John's Sandwiches</td>\n",
       "      <td>22.5</td>\n",
       "      <td>514</td>\n",
       "      <td>35,000</td>\n",
       "      <td>35000.0</td>\n",
       "    </tr>\n",
       "    <tr>\n",
       "      <th>1</th>\n",
       "      <td>1</td>\n",
       "      <td>#2 Franchise 500</td>\n",
       "      <td>Hampton by Hilton</td>\n",
       "      <td>5.7</td>\n",
       "      <td>117</td>\n",
       "      <td>75,000</td>\n",
       "      <td>75000.0</td>\n",
       "    </tr>\n",
       "    <tr>\n",
       "      <th>2</th>\n",
       "      <td>2</td>\n",
       "      <td>#3 Franchise 500</td>\n",
       "      <td>Supercuts</td>\n",
       "      <td>8.8</td>\n",
       "      <td>225</td>\n",
       "      <td>29,500</td>\n",
       "      <td>29500.0</td>\n",
       "    </tr>\n",
       "    <tr>\n",
       "      <th>3</th>\n",
       "      <td>3</td>\n",
       "      <td>#4 Franchise 500</td>\n",
       "      <td>Servpro</td>\n",
       "      <td>4.7</td>\n",
       "      <td>80</td>\n",
       "      <td>46,000</td>\n",
       "      <td>46000.0</td>\n",
       "    </tr>\n",
       "    <tr>\n",
       "      <th>4</th>\n",
       "      <td>4</td>\n",
       "      <td>#5 Franchise 500</td>\n",
       "      <td>Subway</td>\n",
       "      <td>9.4</td>\n",
       "      <td>4149</td>\n",
       "      <td>15,000</td>\n",
       "      <td>15000.0</td>\n",
       "    </tr>\n",
       "  </tbody>\n",
       "</table>\n",
       "</div>"
      ],
      "text/plain": [
       "   index Franchise 500 Rank                  Company Percentage3 Units3  \\\n",
       "0      0   #1 Franchise 500  Jimmy John's Sandwiches        22.5    514   \n",
       "1      1   #2 Franchise 500        Hampton by Hilton         5.7    117   \n",
       "2      2   #3 Franchise 500                Supercuts         8.8    225   \n",
       "3      3   #4 Franchise 500                  Servpro         4.7     80   \n",
       "4      4   #5 Franchise 500                   Subway         9.4   4149   \n",
       "\n",
       "  Initial Franchise Fee  Processed_Franchise_Fee  \n",
       "0               35,000                   35000.0  \n",
       "1               75,000                   75000.0  \n",
       "2               29,500                   29500.0  \n",
       "3               46,000                   46000.0  \n",
       "4               15,000                   15000.0  "
      ]
     },
     "execution_count": 25,
     "metadata": {},
     "output_type": "execute_result"
    }
   ],
   "source": [
    "# solution, we will transform all range values into singular values\n",
    "def process_franchise_fee(value):\n",
    "    if '-' in str(value):\n",
    "        # Handle ranges by calculating the average\n",
    "        start, end = map(float, value.replace(',', '').split('-'))\n",
    "        return (start + end) / 2\n",
    "    else:\n",
    "        # Keep numeric values as is\n",
    "        return float(value.replace(',', ''))\n",
    "\n",
    "# Create a new column 'Processed_Franchise_Fee' based on the custom function\n",
    "new_data_3yr['Processed_Franchise_Fee'] = new_data_1yr['Initial Franchise Fee'].apply(process_franchise_fee)\n",
    "\n",
    "# Display the modified DataFrame\n",
    "new_data_3yr.head(5)"
   ]
  },
  {
   "cell_type": "code",
   "execution_count": 26,
   "id": "99388cc0-3375-4053-81a8-6e7062bb4ccb",
   "metadata": {
    "tags": []
   },
   "outputs": [],
   "source": [
    "new_data_3yr['Units3'] = new_data_3yr['Units3'].fillna(0).astype(int)\n",
    "new_data_3yr['Percentage3'] = new_data_3yr['Percentage3'].fillna(0).astype(float)"
   ]
  },
  {
   "cell_type": "code",
   "execution_count": 27,
   "id": "63eae574-28ee-4b2d-a99a-67b67c71b84b",
   "metadata": {
    "tags": []
   },
   "outputs": [
    {
     "data": {
      "image/png": "[encoded data removed]",
      "text/plain": [
       "<Figure size 640x480 with 1 Axes>"
      ]
     },
     "metadata": {},
     "output_type": "display_data"
    }
   ],
   "source": [
    "sns.scatterplot(data = new_data_3yr, x = 'Processed_Franchise_Fee', y = 'Units3')\n",
    "\n",
    "# Set x-axis to logarithmic scale\n",
    "plt.xscale('log')\n",
    "plt.yscale('log')\n",
    "\n",
    "# Show the plot\n",
    "plt.show()"
   ]
  },
  {
   "cell_type": "code",
   "execution_count": 28,
   "id": "4c1b3444-c8ff-4690-afb8-9fda2307d2c0",
   "metadata": {
    "tags": []
   },
   "outputs": [
    {
     "data": {
      "image/png": "[encoded data removed]",
      "text/plain": [
       "<Figure size 1200x600 with 2 Axes>"
      ]
     },
     "metadata": {},
     "output_type": "display_data"
    }
   ],
   "source": [
    "# Create a figure with two subplots\n",
    "fig, (ax1, ax2) = plt.subplots(1, 2, figsize=(12, 6))\n",
    "\n",
    "# Scatter plot 1\n",
    "sns.scatterplot(data=new_data_1yr, x= 'Processed_Franchise_Fee', y='Units1', ax=ax1)\n",
    "ax1.set_title('Scatter Plot 1')\n",
    "ax1.set_xlabel('Processed_Franchise_Fee (log scale)')\n",
    "ax1.set_ylabel('Units3 (log scale)')\n",
    "ax1.set_xscale('log')\n",
    "ax1.set_yscale('log')\n",
    "\n",
    "# Scatter plot 2\n",
    "sns.scatterplot(data=new_data_3yr, x='Processed_Franchise_Fee', y='Units3', ax=ax2)\n",
    "ax2.set_title('Scatter Plot 2')\n",
    "ax2.set_xlabel('Processed_Franchise_Fee (log scale)')\n",
    "ax2.set_ylabel('Another_Y_Column (log scale)')\n",
    "ax2.set_xscale('log')\n",
    "ax2.set_yscale('log')\n",
    "\n",
    "# Adjust layout and show the plots\n",
    "plt.tight_layout()\n",
    "plt.show()"
   ]
  },
  {
   "cell_type": "code",
   "execution_count": null,
   "id": "a1c815c2-5076-47eb-b8fd-b7306f2af172",
   "metadata": {},
   "outputs": [],
   "source": []
  },
  {
   "cell_type": "code",
   "execution_count": null,
   "id": "87b2b29f-b897-4b5d-918d-f13a3904bc44",
   "metadata": {},
   "outputs": [],
   "source": []
  },
  {
   "cell_type": "code",
   "execution_count": null,
   "id": "76bcba70-c0b1-4fe4-be72-88e9ee2c1204",
   "metadata": {},
   "outputs": [],
   "source": []
  },
  {
   "cell_type": "markdown",
   "id": "0fee5ee4-b991-40dc-8b82-27e33b9867e4",
   "metadata": {},
   "source": [
    "##########################################################################################################\n",
    "##########################################################################################################"
   ]
  },
  {
   "cell_type": "code",
   "execution_count": null,
   "id": "c1aed5e5-0a15-4931-a742-b03d430b2e97",
   "metadata": {},
   "outputs": [],
   "source": []
  },
  {
   "cell_type": "code",
   "execution_count": 30,
   "id": "0eb0d5bb-5412-439b-a512-dba623411620",
   "metadata": {
    "tags": []
   },
   "outputs": [
    {
     "data": {
      "text/html": [
       "<div>\n",
       "<style scoped>\n",
       "    .dataframe tbody tr th:only-of-type {\n",
       "        vertical-align: middle;\n",
       "    }\n",
       "\n",
       "    .dataframe tbody tr th {\n",
       "        vertical-align: top;\n",
       "    }\n",
       "\n",
       "    .dataframe thead th {\n",
       "        text-align: right;\n",
       "    }\n",
       "</style>\n",
       "<table border=\"1\" class=\"dataframe\">\n",
       "  <thead>\n",
       "    <tr style=\"text-align: right;\">\n",
       "      <th></th>\n",
       "      <th>Initial Investment</th>\n",
       "    </tr>\n",
       "  </thead>\n",
       "  <tbody>\n",
       "    <tr>\n",
       "      <th>0</th>\n",
       "      <td>325,500</td>\n",
       "    </tr>\n",
       "    <tr>\n",
       "      <th>1</th>\n",
       "      <td>4,213,600</td>\n",
       "    </tr>\n",
       "  </tbody>\n",
       "</table>\n",
       "</div>"
      ],
      "text/plain": [
       "  Initial Investment\n",
       "0           325,500 \n",
       "1         4,213,600 "
      ]
     },
     "execution_count": 30,
     "metadata": {},
     "output_type": "execute_result"
    }
   ],
   "source": [
    "data[[\"Initial Investment\"]].fillna(0).head(2)"
   ]
  },
  {
   "cell_type": "code",
   "execution_count": 31,
   "id": "5f662c8c-574c-4bc2-ba84-7c27c07d6581",
   "metadata": {
    "tags": []
   },
   "outputs": [
    {
     "data": {
      "text/html": [
       "<div>\n",
       "<style scoped>\n",
       "    .dataframe tbody tr th:only-of-type {\n",
       "        vertical-align: middle;\n",
       "    }\n",
       "\n",
       "    .dataframe tbody tr th {\n",
       "        vertical-align: top;\n",
       "    }\n",
       "\n",
       "    .dataframe thead th {\n",
       "        text-align: right;\n",
       "    }\n",
       "</style>\n",
       "<table border=\"1\" class=\"dataframe\">\n",
       "  <thead>\n",
       "    <tr style=\"text-align: right;\">\n",
       "      <th></th>\n",
       "      <th>High</th>\n",
       "    </tr>\n",
       "  </thead>\n",
       "  <tbody>\n",
       "    <tr>\n",
       "      <th>0</th>\n",
       "      <td>555,000</td>\n",
       "    </tr>\n",
       "    <tr>\n",
       "      <th>1</th>\n",
       "      <td>14,896,500</td>\n",
       "    </tr>\n",
       "  </tbody>\n",
       "</table>\n",
       "</div>"
      ],
      "text/plain": [
       "          High\n",
       "0     555,000 \n",
       "1  14,896,500 "
      ]
     },
     "execution_count": 31,
     "metadata": {},
     "output_type": "execute_result"
    }
   ],
   "source": [
    "data[[\"High\"]].fillna(0).head(2)"
   ]
  },
  {
   "cell_type": "code",
   "execution_count": 32,
   "id": "590dff40-c1ab-46e9-b329-d7dfdcdedbc3",
   "metadata": {
    "tags": []
   },
   "outputs": [
    {
     "name": "stderr",
     "output_type": "stream",
     "text": [
      "/var/folders/83/q0czyh392sg4dhb55y_9m5300000gn/T/ipykernel_1667/2817936765.py:1: FutureWarning: The default value of regex will change from True to False in a future version. In addition, single character regular expressions will *not* be treated as literal strings when regex=True.\n",
      "  data['Initial Investment'] = data['Initial Investment'].str.replace('$', '')\n"
     ]
    }
   ],
   "source": [
    "data['Initial Investment'] = data['Initial Investment'].str.replace('$', '')"
   ]
  },
  {
   "cell_type": "code",
   "execution_count": 33,
   "id": "6abcbd5d-a62b-441e-8d97-fe331285defb",
   "metadata": {
    "tags": []
   },
   "outputs": [
    {
     "name": "stderr",
     "output_type": "stream",
     "text": [
      "/var/folders/83/q0czyh392sg4dhb55y_9m5300000gn/T/ipykernel_1667/1478808905.py:1: FutureWarning: The default value of regex will change from True to False in a future version. In addition, single character regular expressions will *not* be treated as literal strings when regex=True.\n",
      "  data['High'] = data['High'].str.replace('$', '')\n"
     ]
    }
   ],
   "source": [
    "data['High'] = data['High'].str.replace('$', '')"
   ]
  },
  {
   "cell_type": "code",
   "execution_count": 34,
   "id": "b029d2fd-bf4b-4a85-ae78-f66d47843e23",
   "metadata": {
    "tags": []
   },
   "outputs": [],
   "source": [
    "data['Initial Investment'] = data['Initial Investment'].str.replace(',', '')\n",
    "data['High'] = data['High'].str.replace(',', '')"
   ]
  },
  {
   "cell_type": "code",
   "execution_count": 35,
   "id": "365fda91-d90d-4be4-99a0-26b3d1fb3084",
   "metadata": {
    "tags": []
   },
   "outputs": [],
   "source": [
    "data['Initial Investment'] = data['Initial Investment'].str.replace(',', '').astype(float)\n",
    "\n",
    "\n",
    "data['High'] = data['High'].str.replace(',', '').astype(float)\n",
    "\n",
    "\n",
    "data['Initial Investment'] = data['Initial Investment'].fillna(0).astype(int)\n",
    "data['High'] = data['High'].fillna(0).astype(int)"
   ]
  },
  {
   "cell_type": "code",
   "execution_count": 36,
   "id": "003b9230-cddb-4059-bd27-f1b8b457e7d7",
   "metadata": {
    "tags": []
   },
   "outputs": [],
   "source": []
  },
  {
   "cell_type": "code",
   "execution_count": null,
   "id": "0e98a556-1262-441a-a7dc-7668994bae5b",
   "metadata": {},
   "outputs": [],
   "source": []
  },
  {
   "cell_type": "code",
   "execution_count": null,
   "id": "9b1a65fb-39f7-44cb-a710-65d382e3b595",
   "metadata": {},
   "outputs": [],
   "source": []
  },
  {
   "cell_type": "markdown",
   "id": "740f1c1b-4975-45c5-bb15-42467c744423",
   "metadata": {},
   "source": [
    "אין משמעות למינימום ומקסימום"
   ]
  },
  {
   "cell_type": "code",
   "execution_count": 63,
   "id": "77c4a68a-5644-40fe-9208-67ae62ba2754",
   "metadata": {
    "tags": []
   },
   "outputs": [
    {
     "data": {
      "text/html": [
       "<div>\n",
       "<style scoped>\n",
       "    .dataframe tbody tr th:only-of-type {\n",
       "        vertical-align: middle;\n",
       "    }\n",
       "\n",
       "    .dataframe tbody tr th {\n",
       "        vertical-align: top;\n",
       "    }\n",
       "\n",
       "    .dataframe thead th {\n",
       "        text-align: right;\n",
       "    }\n",
       "</style>\n",
       "<table border=\"1\" class=\"dataframe\">\n",
       "  <thead>\n",
       "    <tr style=\"text-align: right;\">\n",
       "      <th></th>\n",
       "      <th>min</th>\n",
       "      <th>max</th>\n",
       "    </tr>\n",
       "    <tr>\n",
       "      <th>Category Detail</th>\n",
       "      <th></th>\n",
       "      <th></th>\n",
       "    </tr>\n",
       "  </thead>\n",
       "  <tbody>\n",
       "    <tr>\n",
       "      <th>Upscale hotels and resorts</th>\n",
       "      <td>35493750</td>\n",
       "      <td>55999500</td>\n",
       "    </tr>\n",
       "    <tr>\n",
       "      <th>Upscale all-suite hotels</th>\n",
       "      <td>28460000</td>\n",
       "      <td>28460000</td>\n",
       "    </tr>\n",
       "    <tr>\n",
       "      <th>Upscale midprice hotels</th>\n",
       "      <td>11669500</td>\n",
       "      <td>11669500</td>\n",
       "    </tr>\n",
       "    <tr>\n",
       "      <th>Upscale extended-stay hotels</th>\n",
       "      <td>10899500</td>\n",
       "      <td>10899500</td>\n",
       "    </tr>\n",
       "    <tr>\n",
       "      <th>Hotels</th>\n",
       "      <td>102384</td>\n",
       "      <td>7530521</td>\n",
       "    </tr>\n",
       "    <tr>\n",
       "      <th>...</th>\n",
       "      <td>...</td>\n",
       "      <td>...</td>\n",
       "    </tr>\n",
       "    <tr>\n",
       "      <th>Windshield repair, glass scratch removal, headlight lens repair</th>\n",
       "      <td>9910</td>\n",
       "      <td>9910</td>\n",
       "    </tr>\n",
       "    <tr>\n",
       "      <th>Weekly newspapers distributed at restaurants</th>\n",
       "      <td>9750</td>\n",
       "      <td>9750</td>\n",
       "    </tr>\n",
       "    <tr>\n",
       "      <th>Printing and promotional products</th>\n",
       "      <td>4730</td>\n",
       "      <td>4730</td>\n",
       "    </tr>\n",
       "    <tr>\n",
       "      <th>Group fitness classes, conventions, apparel and accessories</th>\n",
       "      <td>3530</td>\n",
       "      <td>3530</td>\n",
       "    </tr>\n",
       "    <tr>\n",
       "      <th>Travel agency</th>\n",
       "      <td>25</td>\n",
       "      <td>25</td>\n",
       "    </tr>\n",
       "  </tbody>\n",
       "</table>\n",
       "<p>412 rows × 2 columns</p>\n",
       "</div>"
      ],
      "text/plain": [
       "                                                         min       max\n",
       "Category Detail                                                       \n",
       "Upscale hotels and resorts                          35493750  55999500\n",
       "Upscale all-suite hotels                            28460000  28460000\n",
       "Upscale midprice hotels                             11669500  11669500\n",
       "Upscale extended-stay hotels                        10899500  10899500\n",
       "Hotels                                                102384   7530521\n",
       "...                                                      ...       ...\n",
       "Windshield repair, glass scratch removal, headl...      9910      9910\n",
       "Weekly newspapers distributed at restaurants            9750      9750\n",
       "Printing and promotional products                       4730      4730\n",
       "Group fitness classes, conventions, apparel and...      3530      3530\n",
       "Travel agency                                             25        25\n",
       "\n",
       "[412 rows x 2 columns]"
      ]
     },
     "execution_count": 63,
     "metadata": {},
     "output_type": "execute_result"
    }
   ],
   "source": [
    "investment = data.groupby('Category Detail')['Initial Investment'].agg(['min', 'max']).sort_values(by='max',ascending=False)\n",
    "investment"
   ]
  },
  {
   "cell_type": "code",
   "execution_count": 64,
   "id": "1920e460-e3d4-47ab-b296-c41ce0582d0c",
   "metadata": {
    "tags": []
   },
   "outputs": [
    {
     "data": {
      "text/html": [
       "<div>\n",
       "<style scoped>\n",
       "    .dataframe tbody tr th:only-of-type {\n",
       "        vertical-align: middle;\n",
       "    }\n",
       "\n",
       "    .dataframe tbody tr th {\n",
       "        vertical-align: top;\n",
       "    }\n",
       "\n",
       "    .dataframe thead th {\n",
       "        text-align: right;\n",
       "    }\n",
       "</style>\n",
       "<table border=\"1\" class=\"dataframe\">\n",
       "  <thead>\n",
       "    <tr style=\"text-align: right;\">\n",
       "      <th></th>\n",
       "      <th>min</th>\n",
       "      <th>max</th>\n",
       "    </tr>\n",
       "    <tr>\n",
       "      <th>Category Detail</th>\n",
       "      <th></th>\n",
       "      <th></th>\n",
       "    </tr>\n",
       "  </thead>\n",
       "  <tbody>\n",
       "    <tr>\n",
       "      <th>Upscale hotels and resorts</th>\n",
       "      <td>35493750</td>\n",
       "      <td>55999500</td>\n",
       "    </tr>\n",
       "    <tr>\n",
       "      <th>Upscale all-suite hotels</th>\n",
       "      <td>28460000</td>\n",
       "      <td>28460000</td>\n",
       "    </tr>\n",
       "    <tr>\n",
       "      <th>Upscale midprice hotels</th>\n",
       "      <td>11669500</td>\n",
       "      <td>11669500</td>\n",
       "    </tr>\n",
       "    <tr>\n",
       "      <th>Upscale extended-stay hotels</th>\n",
       "      <td>10899500</td>\n",
       "      <td>10899500</td>\n",
       "    </tr>\n",
       "    <tr>\n",
       "      <th>Hotels</th>\n",
       "      <td>102384</td>\n",
       "      <td>7530521</td>\n",
       "    </tr>\n",
       "    <tr>\n",
       "      <th>Midprice extended-stay hotels</th>\n",
       "      <td>7423250</td>\n",
       "      <td>7423250</td>\n",
       "    </tr>\n",
       "    <tr>\n",
       "      <th>Limited-service extended-stay lodging</th>\n",
       "      <td>5035000</td>\n",
       "      <td>5035000</td>\n",
       "    </tr>\n",
       "    <tr>\n",
       "      <th>Midprice hotels</th>\n",
       "      <td>4213600</td>\n",
       "      <td>4213600</td>\n",
       "    </tr>\n",
       "    <tr>\n",
       "      <th>Extended-stay lodging</th>\n",
       "      <td>3656600</td>\n",
       "      <td>3656600</td>\n",
       "    </tr>\n",
       "    <tr>\n",
       "      <th>Economy hotels</th>\n",
       "      <td>2389600</td>\n",
       "      <td>3475600</td>\n",
       "    </tr>\n",
       "  </tbody>\n",
       "</table>\n",
       "</div>"
      ],
      "text/plain": [
       "                                            min       max\n",
       "Category Detail                                          \n",
       "Upscale hotels and resorts             35493750  55999500\n",
       "Upscale all-suite hotels               28460000  28460000\n",
       "Upscale midprice hotels                11669500  11669500\n",
       "Upscale extended-stay hotels           10899500  10899500\n",
       "Hotels                                   102384   7530521\n",
       "Midprice extended-stay hotels           7423250   7423250\n",
       "Limited-service extended-stay lodging   5035000   5035000\n",
       "Midprice hotels                         4213600   4213600\n",
       "Extended-stay lodging                   3656600   3656600\n",
       "Economy hotels                          2389600   3475600"
      ]
     },
     "execution_count": 64,
     "metadata": {},
     "output_type": "execute_result"
    }
   ],
   "source": [
    "data_10_first = investment.head(10)\n",
    "data_10_first"
   ]
  },
  {
   "cell_type": "code",
   "execution_count": null,
   "id": "a3a581c6-9941-4740-8ebd-592181e3ec27",
   "metadata": {},
   "outputs": [],
   "source": []
  },
  {
   "cell_type": "code",
   "execution_count": 65,
   "id": "5aa5410f-11a2-43f4-88e1-2145ff22aa06",
   "metadata": {
    "tags": []
   },
   "outputs": [
    {
     "data": {
      "text/plain": [
       "<Figure size 1000x600 with 0 Axes>"
      ]
     },
     "metadata": {},
     "output_type": "display_data"
    },
    {
     "data": {
      "image/png": "[encoded data removed]",
      "text/plain": [
       "<Figure size 640x480 with 1 Axes>"
      ]
     },
     "metadata": {},
     "output_type": "display_data"
    }
   ],
   "source": [
    "plt.figure(figsize=(10, 6))\n",
    "data_10_first.plot(kind='bar', y=['min', 'max'])\n",
    "plt.title('Initial Investment by Category Detail(Milion)')\n",
    "plt.xlabel('Category Detail')\n",
    "plt.ylabel('Initial Investment (M)')\n",
    "plt.xticks(rotation=90)\n",
    "plt.tight_layout()\n",
    "plt.show()"
   ]
  },
  {
   "cell_type": "markdown",
   "id": "5609a2e9-220c-4945-be4e-b7a23a7aaee4",
   "metadata": {},
   "source": [
    "# we learn that all top highest initial investment are hotels,  possibile of high cost as a result of of expensive realestate and construction cost"
   ]
  },
  {
   "cell_type": "code",
   "execution_count": 66,
   "id": "6c51f1c7-3cff-4375-b75d-1b6312594a57",
   "metadata": {
    "tags": []
   },
   "outputs": [
    {
     "data": {
      "text/html": [
       "<div>\n",
       "<style scoped>\n",
       "    .dataframe tbody tr th:only-of-type {\n",
       "        vertical-align: middle;\n",
       "    }\n",
       "\n",
       "    .dataframe tbody tr th {\n",
       "        vertical-align: top;\n",
       "    }\n",
       "\n",
       "    .dataframe thead th {\n",
       "        text-align: right;\n",
       "    }\n",
       "</style>\n",
       "<table border=\"1\" class=\"dataframe\">\n",
       "  <thead>\n",
       "    <tr style=\"text-align: right;\">\n",
       "      <th></th>\n",
       "      <th>min</th>\n",
       "      <th>max</th>\n",
       "    </tr>\n",
       "    <tr>\n",
       "      <th>Category Detail</th>\n",
       "      <th></th>\n",
       "      <th></th>\n",
       "    </tr>\n",
       "  </thead>\n",
       "  <tbody>\n",
       "    <tr>\n",
       "      <th>Workplace training and development</th>\n",
       "      <td>19700</td>\n",
       "      <td>19700</td>\n",
       "    </tr>\n",
       "    <tr>\n",
       "      <th>Holiday and event lighting</th>\n",
       "      <td>19550</td>\n",
       "      <td>19550</td>\n",
       "    </tr>\n",
       "    <tr>\n",
       "      <th>Commercial, residential and association property management</th>\n",
       "      <td>19400</td>\n",
       "      <td>19400</td>\n",
       "    </tr>\n",
       "    <tr>\n",
       "      <th>Commercial cleaning, facility services</th>\n",
       "      <td>17000</td>\n",
       "      <td>17000</td>\n",
       "    </tr>\n",
       "    <tr>\n",
       "      <th>Recreational billiard leagues</th>\n",
       "      <td>16704</td>\n",
       "      <td>16704</td>\n",
       "    </tr>\n",
       "    <tr>\n",
       "      <th>Windshield repair, glass scratch removal, headlight lens repair</th>\n",
       "      <td>9910</td>\n",
       "      <td>9910</td>\n",
       "    </tr>\n",
       "    <tr>\n",
       "      <th>Weekly newspapers distributed at restaurants</th>\n",
       "      <td>9750</td>\n",
       "      <td>9750</td>\n",
       "    </tr>\n",
       "    <tr>\n",
       "      <th>Printing and promotional products</th>\n",
       "      <td>4730</td>\n",
       "      <td>4730</td>\n",
       "    </tr>\n",
       "    <tr>\n",
       "      <th>Group fitness classes, conventions, apparel and accessories</th>\n",
       "      <td>3530</td>\n",
       "      <td>3530</td>\n",
       "    </tr>\n",
       "    <tr>\n",
       "      <th>Travel agency</th>\n",
       "      <td>25</td>\n",
       "      <td>25</td>\n",
       "    </tr>\n",
       "  </tbody>\n",
       "</table>\n",
       "</div>"
      ],
      "text/plain": [
       "                                                      min    max\n",
       "Category Detail                                                 \n",
       "Workplace training and development                  19700  19700\n",
       "Holiday and event lighting                          19550  19550\n",
       "Commercial, residential and association propert...  19400  19400\n",
       "Commercial cleaning, facility services              17000  17000\n",
       "Recreational billiard leagues                       16704  16704\n",
       "Windshield repair, glass scratch removal, headl...   9910   9910\n",
       "Weekly newspapers distributed at restaurants         9750   9750\n",
       "Printing and promotional products                    4730   4730\n",
       "Group fitness classes, conventions, apparel and...   3530   3530\n",
       "Travel agency                                          25     25"
      ]
     },
     "execution_count": 66,
     "metadata": {},
     "output_type": "execute_result"
    }
   ],
   "source": [
    "data_10_last = investment.tail(10)\n",
    "data_10_last"
   ]
  },
  {
   "cell_type": "code",
   "execution_count": 67,
   "id": "330f1db2-af1d-47b0-a6c6-07a804535d54",
   "metadata": {
    "tags": []
   },
   "outputs": [
    {
     "data": {
      "text/plain": [
       "<Figure size 1000x600 with 0 Axes>"
      ]
     },
     "metadata": {},
     "output_type": "display_data"
    },
    {
     "data": {
      "image/png": "[encoded data removed]",
      "text/plain": [
       "<Figure size 640x480 with 1 Axes>"
      ]
     },
     "metadata": {},
     "output_type": "display_data"
    }
   ],
   "source": [
    "plt.figure(figsize=(10, 6))\n",
    "data_10_last.plot(kind='bar', y=['min', 'max'])\n",
    "plt.title('Initial Investment by Category Detail')\n",
    "plt.xlabel('Category Detail')\n",
    "plt.ylabel('Initial Investment')\n",
    "plt.xticks(rotation=90)\n",
    "\n",
    "plt.show()"
   ]
  },
  {
   "cell_type": "markdown",
   "id": "7f2c1d4b-99cc-4906-a742-9b91c16fd356",
   "metadata": {},
   "source": [
    "התובנה היא: שההשקעה הראשונה היא תלויה הבהמון דברים כגון נדלן מכשור ועוד, לכן כל קטגוריה דורשת סכום שונה\n",
    "תחום המלונות מונה כמה פריטים ניתן לראות שכל מלון דורש הרבה בהשקעה התחלתית! לעומת זאת תחום התיירות דורש מעט "
   ]
  },
  {
   "cell_type": "code",
   "execution_count": null,
   "id": "51e46c59-ddb3-4e8b-847f-32be1860b2d0",
   "metadata": {},
   "outputs": [],
   "source": [
    "#maybe check for relation of inital investment to inital franchise fee?"
   ]
  },
  {
   "cell_type": "markdown",
   "id": "ec6dfe16-3bc4-4201-97b4-af863fd7e9d6",
   "metadata": {},
   "source": [
    "###################################################################################################\n",
    "###################################################################################################"
   ]
  },
  {
   "cell_type": "code",
   "execution_count": null,
   "id": "453c8b66-f489-4ab2-a58d-abd4fbf58048",
   "metadata": {
    "tags": []
   },
   "outputs": [],
   "source": [
    "\n",
    "\n"
   ]
  },
  {
   "cell_type": "code",
   "execution_count": null,
   "id": "af1745dc-1db0-4979-a6a2-1040403f24f7",
   "metadata": {
    "tags": []
   },
   "outputs": [],
   "source": []
  },
  {
   "cell_type": "code",
   "execution_count": null,
   "id": "752ec28a-0be5-4388-8c2c-0dfe23b38a2c",
   "metadata": {
    "tags": []
   },
   "outputs": [],
   "source": []
  },
  {
   "cell_type": "code",
   "execution_count": null,
   "id": "ca30b7c2-5617-42d2-94a3-2dec23bfabbf",
   "metadata": {
    "tags": []
   },
   "outputs": [],
   "source": []
  },
  {
   "cell_type": "code",
   "execution_count": 68,
   "id": "b61b184e-c756-4f79-b3b3-2a6f3487ebdc",
   "metadata": {
    "tags": []
   },
   "outputs": [],
   "source": [
    "data['Initial Investment'] = data['Initial Investment'].astype(int)\n",
    "data['High'] = data['High'].astype(int)"
   ]
  },
  {
   "cell_type": "code",
   "execution_count": 69,
   "id": "ab2b6173-da0a-4c10-b226-f0e142608ef8",
   "metadata": {
    "tags": []
   },
   "outputs": [],
   "source": [
    "data['Division'] = data['High'] / data['Initial Investment']"
   ]
  },
  {
   "cell_type": "code",
   "execution_count": 70,
   "id": "bd952803-043f-4a7e-83f0-1062e694aa9c",
   "metadata": {},
   "outputs": [],
   "source": [
    "#data.head()"
   ]
  },
  {
   "cell_type": "code",
   "execution_count": 71,
   "id": "aeb7efb4-64e1-4df0-a798-efcf778b8f0b",
   "metadata": {},
   "outputs": [],
   "source": [
    "data_10_big=data['Division'].nlargest(10).index\n",
    "\n",
    "data_10_big = data.loc[data_10_big]\n",
    "#data_10_big"
   ]
  },
  {
   "cell_type": "code",
   "execution_count": 72,
   "id": "7e446ba7-e001-4f48-97aa-38b16dcc05ef",
   "metadata": {
    "tags": []
   },
   "outputs": [
    {
     "data": {
      "image/png": "[encoded data removed]",
      "text/plain": [
       "<Figure size 500x500 with 1 Axes>"
      ]
     },
     "metadata": {},
     "output_type": "display_data"
    }
   ],
   "source": [
    "plt.figure(1, figsize=(5,5))\n",
    "plt.title(\"Distribution of Category\")\n",
    "data_10_big['Category Detail'].value_counts().plot.pie(autopct=\"%1.1f%%\")\n",
    "plt.ylabel(\"\")  \n",
    "plt.show()"
   ]
  },
  {
   "cell_type": "markdown",
   "id": "b50f33bc-a62c-431a-8b06-48edaabaf6b2",
   "metadata": {
    "tags": []
   },
   "source": [
    "##########################################################################################\n",
    "##########################################################################################"
   ]
  },
  {
   "cell_type": "code",
   "execution_count": null,
   "id": "86ef27d2-4db6-4b0f-be54-36927eacc1af",
   "metadata": {
    "tags": []
   },
   "outputs": [],
   "source": []
  },
  {
   "cell_type": "code",
   "execution_count": null,
   "id": "84ddf6c2-c6cb-45d4-87e5-8dae8f88ee16",
   "metadata": {
    "tags": []
   },
   "outputs": [],
   "source": [
    "sns.scatterplot(x=data['Company'],y=data['Division'])\n",
    "plt.xscale('log')\n",
    "plt.yscale('log')"
   ]
  },
  {
   "cell_type": "code",
   "execution_count": null,
   "id": "aaff6ecb-269f-48e0-9fae-1d7633a4bbf3",
   "metadata": {},
   "outputs": [],
   "source": []
  },
  {
   "cell_type": "code",
   "execution_count": null,
   "id": "b86a09c3-13d5-465f-9d92-8e7507dae062",
   "metadata": {},
   "outputs": [],
   "source": []
  },
  {
   "cell_type": "markdown",
   "id": "60c56cac-553b-48a1-adac-ace756e63003",
   "metadata": {
    "tags": []
   },
   "source": [
    "##############################################################################\n",
    "##############################################################################"
   ]
  },
  {
   "cell_type": "code",
   "execution_count": null,
   "id": "fd70b1d8-a204-4cf3-ad0c-e05b7e022c87",
   "metadata": {},
   "outputs": [],
   "source": []
  },
  {
   "cell_type": "code",
   "execution_count": null,
   "id": "928f7af0-8e01-466d-918a-324c7d9222c2",
   "metadata": {},
   "outputs": [],
   "source": []
  },
  {
   "cell_type": "code",
   "execution_count": null,
   "id": "76f60f26-2a9a-4b30-a07d-2aebd16ac255",
   "metadata": {},
   "outputs": [],
   "source": []
  },
  {
   "cell_type": "code",
   "execution_count": null,
   "id": "690d42ab-81d0-4988-9f5b-f1676fc02dba",
   "metadata": {},
   "outputs": [],
   "source": []
  },
  {
   "cell_type": "code",
   "execution_count": null,
   "id": "6e2a073c-e680-4411-980b-40a17d2cc2e9",
   "metadata": {},
   "outputs": [],
   "source": []
  },
  {
   "cell_type": "code",
   "execution_count": null,
   "id": "9a9aa103-f658-4e71-8dd5-ddafdbffa929",
   "metadata": {
    "tags": []
   },
   "outputs": [],
   "source": []
  },
  {
   "cell_type": "code",
   "execution_count": null,
   "id": "5576acde-21b1-4b2c-9131-e1b1b55d6124",
   "metadata": {
    "tags": []
   },
   "outputs": [],
   "source": [
    "\n",
    "\n"
   ]
  },
  {
   "cell_type": "code",
   "execution_count": null,
   "id": "6f473721-129a-4694-bd5d-6a268a01da8b",
   "metadata": {},
   "outputs": [],
   "source": []
  },
  {
   "cell_type": "code",
   "execution_count": null,
   "id": "7c595a75-199e-41d8-ac60-d5af5b870d89",
   "metadata": {
    "tags": []
   },
   "outputs": [],
   "source": []
  },
  {
   "cell_type": "code",
   "execution_count": null,
   "id": "acbc289f-9cd8-46fd-85cb-469d0e2fa757",
   "metadata": {},
   "outputs": [],
   "source": []
  },
  {
   "cell_type": "code",
   "execution_count": null,
   "id": "0969600f-00d7-474f-840d-6ce07a05ddf5",
   "metadata": {},
   "outputs": [],
   "source": []
  },
  {
   "cell_type": "code",
   "execution_count": null,
   "id": "0e9f1178-17ca-4ae0-8da6-187a4de20fa1",
   "metadata": {},
   "outputs": [],
   "source": []
  },
  {
   "cell_type": "code",
   "execution_count": null,
   "id": "46811122-6b81-44ca-a11c-f960632d173a",
   "metadata": {
    "tags": []
   },
   "outputs": [],
   "source": []
  },
  {
   "cell_type": "code",
   "execution_count": null,
   "id": "370ae24e-2352-4edd-8964-94f5b7e9c3d7",
   "metadata": {
    "tags": []
   },
   "outputs": [],
   "source": []
  },
  {
   "cell_type": "code",
   "execution_count": null,
   "id": "d0ea8468-faee-473e-85e3-6f2e509f4964",
   "metadata": {},
   "outputs": [],
   "source": [
    "\n",
    "\n"
   ]
  },
  {
   "cell_type": "code",
   "execution_count": null,
   "id": "dd366044-b2fb-4e6e-99d9-fe785e7cd686",
   "metadata": {},
   "outputs": [],
   "source": []
  },
  {
   "cell_type": "code",
   "execution_count": null,
   "id": "48c66d13-258d-4de2-a5e1-7c63b90e5c69",
   "metadata": {},
   "outputs": [],
   "source": [
    "\n",
    "\n",
    "\n"
   ]
  },
  {
   "cell_type": "code",
   "execution_count": null,
   "id": "0ff2ade5-cbf0-4a89-8fac-a5cda386b68c",
   "metadata": {},
   "outputs": [],
   "source": []
  },
  {
   "cell_type": "code",
   "execution_count": null,
   "id": "690b9afc-bda6-4467-b8c7-836a62813839",
   "metadata": {},
   "outputs": [],
   "source": []
  },
  {
   "cell_type": "code",
   "execution_count": null,
   "id": "c51a4e7a-6f62-4269-a66a-b0809750386f",
   "metadata": {},
   "outputs": [],
   "source": []
  },
  {
   "cell_type": "code",
   "execution_count": null,
   "id": "2d206f59-4755-408d-9876-9cac32878ff0",
   "metadata": {},
   "outputs": [],
   "source": []
  },
  {
   "cell_type": "code",
   "execution_count": null,
   "id": "57bdef20-d88b-4074-8a3a-dea874698e4a",
   "metadata": {},
   "outputs": [],
   "source": []
  }
 ],
 "metadata": {
  "kernelspec": {
   "display_name": "Python 3 (ipykernel)",
   "language": "python",
   "name": "python3"
  },
  "language_info": {
   "codemirror_mode": {
    "name": "ipython",
    "version": 3
   },
   "file_extension": ".py",
   "mimetype": "text/x-python",
   "name": "python",
   "nbconvert_exporter": "python",
   "pygments_lexer": "ipython3",
   "version": "3.9.13"
  }
 },
 "nbformat": 4,
 "nbformat_minor": 5
}
