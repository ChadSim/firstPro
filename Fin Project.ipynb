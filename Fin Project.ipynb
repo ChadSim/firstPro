{
 "cells": [
  {
   "cell_type": "code",
   "execution_count": null,
   "id": "3903addd-6aee-4db9-9cd8-9e77228d39b7",
   "metadata": {},
   "outputs": [],
   "source": []
  },
  {
   "cell_type": "markdown",
   "id": "11b45791-54e2-4671-b4e0-2c87b1238016",
   "metadata": {},
   "source": [
    "Welcome to the trending franchies 500 project"
   ]
  },
  {
   "cell_type": "code",
   "execution_count": 1,
   "id": "54c7ea0e-e388-4f47-8149-3c1243b51dac",
   "metadata": {},
   "outputs": [],
   "source": [
    "import pandas as pd\n",
    "import numpy as np\n",
    "import seaborn as sns\n",
    "import matplotlib.pyplot as plt"
   ]
  },
  {
   "cell_type": "code",
   "execution_count": 2,
   "id": "e8982011-6d75-4495-8122-d3e1c3656f10",
   "metadata": {},
   "outputs": [],
   "source": [
    "url = 'https://raw.githubusercontent.com/ChadSim/firstPro/main/franchise500.csv'\n",
    "df = pd.read_csv(url, encoding= 'latin1')"
   ]
  },
  {
   "cell_type": "markdown",
   "id": "b1ee828a-45ea-4c57-b13c-56695fa93deb",
   "metadata": {},
   "source": [
    "### A little bit about the data:\n",
    "\n",
    "This year marks the 45th annual Franchise 500—still the world’s first, best, and most comprehensive franchise ranking. If you’re looking to buy a franchise, this is your definitive guide. If you’re a franchisor, this is where your hard work is recognized."
   ]
  },
  {
   "cell_type": "code",
   "execution_count": 3,
   "id": "c7e6803c-9330-458c-9e6e-519fb475a060",
   "metadata": {},
   "outputs": [
    {
     "data": {
      "text/plain": [
       "Index(['Entreupeneur Profile', '2016 Rank', 'Company', 'Category Detail',\n",
       "       'Franchise 500 Rank', 'Initial Investment', 'High',\n",
       "       'Change In Units 1 Yr', 'Change In Units 3 Yr', 'Founded',\n",
       "       'Franchising Since', 'Corporate Address', 'Ceo', 'Parent Company',\n",
       "       'About', 'Net Worth Requirement', 'Liquid Cash Requirement',\n",
       "       'Initial Franchise Fee', 'Financing Options', 'Veteran Incentives',\n",
       "       'Previous Ranks', 'Highest Rank', 'Lowest Rank',\n",
       "       'Where Seeking Franchisees', 'Operations'],\n",
       "      dtype='object')"
      ]
     },
     "execution_count": 3,
     "metadata": {},
     "output_type": "execute_result"
    }
   ],
   "source": [
    "df.columns"
   ]
  },
  {
   "cell_type": "code",
   "execution_count": 4,
   "id": "6d1437b5-2839-4a08-bdba-d3166463a358",
   "metadata": {},
   "outputs": [
    {
     "data": {
      "text/html": [
       "<div>\n",
       "<style scoped>\n",
       "    .dataframe tbody tr th:only-of-type {\n",
       "        vertical-align: middle;\n",
       "    }\n",
       "\n",
       "    .dataframe tbody tr th {\n",
       "        vertical-align: top;\n",
       "    }\n",
       "\n",
       "    .dataframe thead th {\n",
       "        text-align: right;\n",
       "    }\n",
       "</style>\n",
       "<table border=\"1\" class=\"dataframe\">\n",
       "  <thead>\n",
       "    <tr style=\"text-align: right;\">\n",
       "      <th></th>\n",
       "      <th>Entreupeneur Profile</th>\n",
       "      <th>2016 Rank</th>\n",
       "      <th>Company</th>\n",
       "      <th>Category Detail</th>\n",
       "      <th>Franchise 500 Rank</th>\n",
       "      <th>Initial Investment</th>\n",
       "      <th>High</th>\n",
       "      <th>Change In Units 1 Yr</th>\n",
       "      <th>Change In Units 3 Yr</th>\n",
       "      <th>Founded</th>\n",
       "      <th>...</th>\n",
       "      <th>Net Worth Requirement</th>\n",
       "      <th>Liquid Cash Requirement</th>\n",
       "      <th>Initial Franchise Fee</th>\n",
       "      <th>Financing Options</th>\n",
       "      <th>Veteran Incentives</th>\n",
       "      <th>Previous Ranks</th>\n",
       "      <th>Highest Rank</th>\n",
       "      <th>Lowest Rank</th>\n",
       "      <th>Where Seeking Franchisees</th>\n",
       "      <th>Operations</th>\n",
       "    </tr>\n",
       "  </thead>\n",
       "  <tbody>\n",
       "    <tr>\n",
       "      <th>0</th>\n",
       "      <td>https://www.entrepreneur.com/franchises/jimmyj...</td>\n",
       "      <td>1</td>\n",
       "      <td>Jimmy John's Sandwiches</td>\n",
       "      <td>Sandwiches</td>\n",
       "      <td>#1 Franchise 500</td>\n",
       "      <td>$325,500</td>\n",
       "      <td>$555,000</td>\n",
       "      <td>+9.0% +205 UNITS</td>\n",
       "      <td>+22.5% +514 UNITS</td>\n",
       "      <td>1983</td>\n",
       "      <td>...</td>\n",
       "      <td>$300,000</td>\n",
       "      <td>$80,000</td>\n",
       "      <td>$35,000</td>\n",
       "      <td>Jimmy John's Sandwiches has relationships with...</td>\n",
       "      <td>NaN</td>\n",
       "      <td>NaN</td>\n",
       "      <td>1.0</td>\n",
       "      <td>85.0</td>\n",
       "      <td>throughout the US</td>\n",
       "      <td>Training Onsite: 20 days;Training at headquart...</td>\n",
       "    </tr>\n",
       "    <tr>\n",
       "      <th>1</th>\n",
       "      <td>https://www.entrepreneur.com/franchises/hampto...</td>\n",
       "      <td>2</td>\n",
       "      <td>Hampton by Hilton</td>\n",
       "      <td>Midprice hotels</td>\n",
       "      <td>#2 Franchise 500</td>\n",
       "      <td>$4,213,600</td>\n",
       "      <td>$14,896,500</td>\n",
       "      <td>+4.4% +90 UNITS</td>\n",
       "      <td>+5.7% +117 UNITS</td>\n",
       "      <td>1983</td>\n",
       "      <td>...</td>\n",
       "      <td>NaN</td>\n",
       "      <td>NaN</td>\n",
       "      <td>$75,000</td>\n",
       "      <td>Hampton by Hilton has relationships with third...</td>\n",
       "      <td>NaN</td>\n",
       "      <td>NaN</td>\n",
       "      <td>1.0</td>\n",
       "      <td>48.0</td>\n",
       "      <td>worldwide</td>\n",
       "      <td>Training Onsite: varies;Training at headquarte...</td>\n",
       "    </tr>\n",
       "  </tbody>\n",
       "</table>\n",
       "<p>2 rows × 25 columns</p>\n",
       "</div>"
      ],
      "text/plain": [
       "                                Entreupeneur Profile  2016 Rank  \\\n",
       "0  https://www.entrepreneur.com/franchises/jimmyj...          1   \n",
       "1  https://www.entrepreneur.com/franchises/hampto...          2   \n",
       "\n",
       "                   Company  Category Detail Franchise 500 Rank  \\\n",
       "0  Jimmy John's Sandwiches       Sandwiches   #1 Franchise 500   \n",
       "1        Hampton by Hilton  Midprice hotels   #2 Franchise 500   \n",
       "\n",
       "  Initial Investment          High Change In Units 1 Yr Change In Units 3 Yr  \\\n",
       "0          $325,500      $555,000      +9.0% +205 UNITS    +22.5% +514 UNITS   \n",
       "1        $4,213,600   $14,896,500       +4.4% +90 UNITS     +5.7% +117 UNITS   \n",
       "\n",
       "   Founded  ... Net Worth Requirement Liquid Cash Requirement  \\\n",
       "0     1983  ...             $300,000                 $80,000    \n",
       "1     1983  ...                   NaN                     NaN   \n",
       "\n",
       "  Initial Franchise Fee                                  Financing Options  \\\n",
       "0              $35,000   Jimmy John's Sandwiches has relationships with...   \n",
       "1              $75,000   Hampton by Hilton has relationships with third...   \n",
       "\n",
       "  Veteran Incentives Previous Ranks Highest Rank Lowest Rank  \\\n",
       "0                NaN            NaN          1.0        85.0   \n",
       "1                NaN            NaN          1.0        48.0   \n",
       "\n",
       "  Where Seeking Franchisees                                         Operations  \n",
       "0         throughout the US  Training Onsite: 20 days;Training at headquart...  \n",
       "1                 worldwide  Training Onsite: varies;Training at headquarte...  \n",
       "\n",
       "[2 rows x 25 columns]"
      ]
     },
     "execution_count": 4,
     "metadata": {},
     "output_type": "execute_result"
    }
   ],
   "source": [
    "df.head(2)"
   ]
  },
  {
   "cell_type": "markdown",
   "id": "f9eec828-0295-48d7-9cfa-b23292700843",
   "metadata": {},
   "source": [
    "# Cleaning the data\n",
    "Cleaning the '$' signs and other non numerical figures, so that we can change the type into integers and then work with numbers. "
   ]
  },
  {
   "cell_type": "code",
   "execution_count": null,
   "id": "9c62bdf0-6476-4a07-b8b4-68d768eb2c7f",
   "metadata": {},
   "outputs": [],
   "source": []
  },
  {
   "cell_type": "code",
   "execution_count": null,
   "id": "56d0ddc9-5ce7-43bb-bff1-957e3d2bbf5a",
   "metadata": {},
   "outputs": [],
   "source": []
  },
  {
   "cell_type": "code",
   "execution_count": 5,
   "id": "27077188-75ce-493e-b297-45f41fe343f3",
   "metadata": {},
   "outputs": [],
   "source": [
    "#spend['Actual_PO'] = spend['Actual_PO'].replace({'\\$':''}, regex = True)  \n",
    "df['Liquid Cash Requirement'] = df['Liquid Cash Requirement'].replace({'\\$':''}, regex = True)  \n",
    "df['Initial Franchise Fee'] = df['Initial Franchise Fee'].replace({'\\$':''}, regex = True)  \n",
    "df['Net Worth Requirement'] = df['Net Worth Requirement'].replace({'\\$':''}, regex = True) \n",
    "df['Initial Investment'] = df['Initial Investment'].replace({'\\$':''}, regex = True) \n",
    "df['High'] = df['High'].replace({'\\$':''}, regex = True) \n",
    "df['Net Worth Requirement'] = df['Net Worth Requirement'].replace({'\\$':''}, regex = True) "
   ]
  },
  {
   "cell_type": "code",
   "execution_count": 6,
   "id": "be926a78-54b8-4062-8dbe-65c349fe49b6",
   "metadata": {},
   "outputs": [
    {
     "data": {
      "text/html": [
       "<div>\n",
       "<style scoped>\n",
       "    .dataframe tbody tr th:only-of-type {\n",
       "        vertical-align: middle;\n",
       "    }\n",
       "\n",
       "    .dataframe tbody tr th {\n",
       "        vertical-align: top;\n",
       "    }\n",
       "\n",
       "    .dataframe thead th {\n",
       "        text-align: right;\n",
       "    }\n",
       "</style>\n",
       "<table border=\"1\" class=\"dataframe\">\n",
       "  <thead>\n",
       "    <tr style=\"text-align: right;\">\n",
       "      <th></th>\n",
       "      <th>Entreupeneur Profile</th>\n",
       "      <th>2016 Rank</th>\n",
       "      <th>Company</th>\n",
       "      <th>Category Detail</th>\n",
       "      <th>Franchise 500 Rank</th>\n",
       "      <th>Initial Investment</th>\n",
       "      <th>High</th>\n",
       "      <th>Change In Units 1 Yr</th>\n",
       "      <th>Change In Units 3 Yr</th>\n",
       "      <th>Founded</th>\n",
       "      <th>...</th>\n",
       "      <th>Net Worth Requirement</th>\n",
       "      <th>Liquid Cash Requirement</th>\n",
       "      <th>Initial Franchise Fee</th>\n",
       "      <th>Financing Options</th>\n",
       "      <th>Veteran Incentives</th>\n",
       "      <th>Previous Ranks</th>\n",
       "      <th>Highest Rank</th>\n",
       "      <th>Lowest Rank</th>\n",
       "      <th>Where Seeking Franchisees</th>\n",
       "      <th>Operations</th>\n",
       "    </tr>\n",
       "  </thead>\n",
       "  <tbody>\n",
       "    <tr>\n",
       "      <th>0</th>\n",
       "      <td>https://www.entrepreneur.com/franchises/jimmyj...</td>\n",
       "      <td>1</td>\n",
       "      <td>Jimmy John's Sandwiches</td>\n",
       "      <td>Sandwiches</td>\n",
       "      <td>#1 Franchise 500</td>\n",
       "      <td>325,500</td>\n",
       "      <td>555,000</td>\n",
       "      <td>+9.0% +205 UNITS</td>\n",
       "      <td>+22.5% +514 UNITS</td>\n",
       "      <td>1983</td>\n",
       "      <td>...</td>\n",
       "      <td>300,000</td>\n",
       "      <td>80,000</td>\n",
       "      <td>35,000</td>\n",
       "      <td>Jimmy John's Sandwiches has relationships with...</td>\n",
       "      <td>NaN</td>\n",
       "      <td>NaN</td>\n",
       "      <td>1.0</td>\n",
       "      <td>85.0</td>\n",
       "      <td>throughout the US</td>\n",
       "      <td>Training Onsite: 20 days;Training at headquart...</td>\n",
       "    </tr>\n",
       "  </tbody>\n",
       "</table>\n",
       "<p>1 rows × 25 columns</p>\n",
       "</div>"
      ],
      "text/plain": [
       "                                Entreupeneur Profile  2016 Rank  \\\n",
       "0  https://www.entrepreneur.com/franchises/jimmyj...          1   \n",
       "\n",
       "                   Company Category Detail Franchise 500 Rank  \\\n",
       "0  Jimmy John's Sandwiches      Sandwiches   #1 Franchise 500   \n",
       "\n",
       "  Initial Investment      High Change In Units 1 Yr Change In Units 3 Yr  \\\n",
       "0           325,500   555,000      +9.0% +205 UNITS    +22.5% +514 UNITS   \n",
       "\n",
       "   Founded  ... Net Worth Requirement Liquid Cash Requirement  \\\n",
       "0     1983  ...              300,000                  80,000    \n",
       "\n",
       "  Initial Franchise Fee                                  Financing Options  \\\n",
       "0               35,000   Jimmy John's Sandwiches has relationships with...   \n",
       "\n",
       "  Veteran Incentives Previous Ranks Highest Rank Lowest Rank  \\\n",
       "0                NaN            NaN          1.0        85.0   \n",
       "\n",
       "  Where Seeking Franchisees                                         Operations  \n",
       "0         throughout the US  Training Onsite: 20 days;Training at headquart...  \n",
       "\n",
       "[1 rows x 25 columns]"
      ]
     },
     "execution_count": 6,
     "metadata": {},
     "output_type": "execute_result"
    }
   ],
   "source": [
    "df.head(1)"
   ]
  },
  {
   "cell_type": "markdown",
   "id": "0f4c2f19-2683-4d18-97ae-e95a6444080e",
   "metadata": {},
   "source": [
    "Shoot, 'change in units' have two values in each tuple, we will separate them than insert them into two eperate columns."
   ]
  },
  {
   "cell_type": "code",
   "execution_count": 7,
   "id": "bc7dec4f-c433-406d-8012-7d249cd159d3",
   "metadata": {},
   "outputs": [
    {
     "data": {
      "text/html": [
       "<div>\n",
       "<style scoped>\n",
       "    .dataframe tbody tr th:only-of-type {\n",
       "        vertical-align: middle;\n",
       "    }\n",
       "\n",
       "    .dataframe tbody tr th {\n",
       "        vertical-align: top;\n",
       "    }\n",
       "\n",
       "    .dataframe thead th {\n",
       "        text-align: right;\n",
       "    }\n",
       "</style>\n",
       "<table border=\"1\" class=\"dataframe\">\n",
       "  <thead>\n",
       "    <tr style=\"text-align: right;\">\n",
       "      <th></th>\n",
       "      <th>Entreupeneur Profile</th>\n",
       "      <th>2016 Rank</th>\n",
       "      <th>Company</th>\n",
       "      <th>Category Detail</th>\n",
       "      <th>Franchise 500 Rank</th>\n",
       "      <th>Initial Investment</th>\n",
       "      <th>High</th>\n",
       "      <th>Change In Units 1 Yr</th>\n",
       "      <th>Change In Units 3 Yr</th>\n",
       "      <th>Founded</th>\n",
       "      <th>...</th>\n",
       "      <th>Veteran Incentives</th>\n",
       "      <th>Previous Ranks</th>\n",
       "      <th>Highest Rank</th>\n",
       "      <th>Lowest Rank</th>\n",
       "      <th>Where Seeking Franchisees</th>\n",
       "      <th>Operations</th>\n",
       "      <th>Percentage1</th>\n",
       "      <th>Units1</th>\n",
       "      <th>Percentage3</th>\n",
       "      <th>Units3</th>\n",
       "    </tr>\n",
       "  </thead>\n",
       "  <tbody>\n",
       "    <tr>\n",
       "      <th>0</th>\n",
       "      <td>https://www.entrepreneur.com/franchises/jimmyj...</td>\n",
       "      <td>1</td>\n",
       "      <td>Jimmy John's Sandwiches</td>\n",
       "      <td>Sandwiches</td>\n",
       "      <td>#1 Franchise 500</td>\n",
       "      <td>325,500</td>\n",
       "      <td>555,000</td>\n",
       "      <td>+9.0% +205 UNITS</td>\n",
       "      <td>+22.5% +514 UNITS</td>\n",
       "      <td>1983</td>\n",
       "      <td>...</td>\n",
       "      <td>NaN</td>\n",
       "      <td>NaN</td>\n",
       "      <td>1.0</td>\n",
       "      <td>85.0</td>\n",
       "      <td>throughout the US</td>\n",
       "      <td>Training Onsite: 20 days;Training at headquart...</td>\n",
       "      <td>+9.0</td>\n",
       "      <td>+205</td>\n",
       "      <td>+22.5</td>\n",
       "      <td>+514</td>\n",
       "    </tr>\n",
       "    <tr>\n",
       "      <th>1</th>\n",
       "      <td>https://www.entrepreneur.com/franchises/hampto...</td>\n",
       "      <td>2</td>\n",
       "      <td>Hampton by Hilton</td>\n",
       "      <td>Midprice hotels</td>\n",
       "      <td>#2 Franchise 500</td>\n",
       "      <td>4,213,600</td>\n",
       "      <td>14,896,500</td>\n",
       "      <td>+4.4% +90 UNITS</td>\n",
       "      <td>+5.7% +117 UNITS</td>\n",
       "      <td>1983</td>\n",
       "      <td>...</td>\n",
       "      <td>NaN</td>\n",
       "      <td>NaN</td>\n",
       "      <td>1.0</td>\n",
       "      <td>48.0</td>\n",
       "      <td>worldwide</td>\n",
       "      <td>Training Onsite: varies;Training at headquarte...</td>\n",
       "      <td>+4.4</td>\n",
       "      <td>+90</td>\n",
       "      <td>+5.7</td>\n",
       "      <td>+117</td>\n",
       "    </tr>\n",
       "  </tbody>\n",
       "</table>\n",
       "<p>2 rows × 29 columns</p>\n",
       "</div>"
      ],
      "text/plain": [
       "                                Entreupeneur Profile  2016 Rank  \\\n",
       "0  https://www.entrepreneur.com/franchises/jimmyj...          1   \n",
       "1  https://www.entrepreneur.com/franchises/hampto...          2   \n",
       "\n",
       "                   Company  Category Detail Franchise 500 Rank  \\\n",
       "0  Jimmy John's Sandwiches       Sandwiches   #1 Franchise 500   \n",
       "1        Hampton by Hilton  Midprice hotels   #2 Franchise 500   \n",
       "\n",
       "  Initial Investment         High Change In Units 1 Yr Change In Units 3 Yr  \\\n",
       "0           325,500      555,000      +9.0% +205 UNITS    +22.5% +514 UNITS   \n",
       "1         4,213,600   14,896,500       +4.4% +90 UNITS     +5.7% +117 UNITS   \n",
       "\n",
       "   Founded  ... Veteran Incentives Previous Ranks Highest Rank Lowest Rank  \\\n",
       "0     1983  ...                NaN            NaN          1.0        85.0   \n",
       "1     1983  ...                NaN            NaN          1.0        48.0   \n",
       "\n",
       "  Where Seeking Franchisees  \\\n",
       "0         throughout the US   \n",
       "1                 worldwide   \n",
       "\n",
       "                                          Operations Percentage1 Units1  \\\n",
       "0  Training Onsite: 20 days;Training at headquart...        +9.0   +205   \n",
       "1  Training Onsite: varies;Training at headquarte...        +4.4    +90   \n",
       "\n",
       "  Percentage3 Units3  \n",
       "0       +22.5   +514  \n",
       "1        +5.7   +117  \n",
       "\n",
       "[2 rows x 29 columns]"
      ]
     },
     "execution_count": 7,
     "metadata": {},
     "output_type": "execute_result"
    }
   ],
   "source": [
    "df[['Percentage1', 'Units1']] = df['Change In Units 1 Yr'].str.extract(r'([+-]?\\d*\\.\\d+|\\d+)%\\s*([+-]?\\d+)\\s*UNITS')\n",
    "df[['Percentage3', 'Units3']] = df['Change In Units 3 Yr'].str.extract(r'([+-]?\\d*\\.\\d+|\\d+)%\\s*([+-]?\\d+)\\s*UNITS')\n",
    "df.head(2)"
   ]
  },
  {
   "cell_type": "code",
   "execution_count": null,
   "id": "ffd7451d-94f2-4e81-86d6-308ec7a1a48e",
   "metadata": {},
   "outputs": [],
   "source": []
  },
  {
   "cell_type": "markdown",
   "id": "bb6a5dae-47f3-442e-91a4-5700597d75c0",
   "metadata": {},
   "source": [
    "Lets remove the '+' sign"
   ]
  },
  {
   "cell_type": "code",
   "execution_count": 8,
   "id": "2e0377ea-6318-49fe-9617-01e4e11790e0",
   "metadata": {},
   "outputs": [
    {
     "name": "stderr",
     "output_type": "stream",
     "text": [
      "/var/folders/83/q0czyh392sg4dhb55y_9m5300000gn/T/ipykernel_3216/3503439158.py:1: FutureWarning: The default value of regex will change from True to False in a future version. In addition, single character regular expressions will *not* be treated as literal strings when regex=True.\n",
      "  df['Percentage1'] = df['Percentage1'].str.replace('+', '')\n",
      "/var/folders/83/q0czyh392sg4dhb55y_9m5300000gn/T/ipykernel_3216/3503439158.py:2: FutureWarning: The default value of regex will change from True to False in a future version. In addition, single character regular expressions will *not* be treated as literal strings when regex=True.\n",
      "  df['Units1'] = df['Units1'].str.replace('+', '')\n",
      "/var/folders/83/q0czyh392sg4dhb55y_9m5300000gn/T/ipykernel_3216/3503439158.py:3: FutureWarning: The default value of regex will change from True to False in a future version. In addition, single character regular expressions will *not* be treated as literal strings when regex=True.\n",
      "  df['Percentage3'] = df['Percentage3'].str.replace('+', '')\n",
      "/var/folders/83/q0czyh392sg4dhb55y_9m5300000gn/T/ipykernel_3216/3503439158.py:4: FutureWarning: The default value of regex will change from True to False in a future version. In addition, single character regular expressions will *not* be treated as literal strings when regex=True.\n",
      "  df['Units3'] = df['Units3'].str.replace('+', '')\n"
     ]
    },
    {
     "data": {
      "text/html": [
       "<div>\n",
       "<style scoped>\n",
       "    .dataframe tbody tr th:only-of-type {\n",
       "        vertical-align: middle;\n",
       "    }\n",
       "\n",
       "    .dataframe tbody tr th {\n",
       "        vertical-align: top;\n",
       "    }\n",
       "\n",
       "    .dataframe thead th {\n",
       "        text-align: right;\n",
       "    }\n",
       "</style>\n",
       "<table border=\"1\" class=\"dataframe\">\n",
       "  <thead>\n",
       "    <tr style=\"text-align: right;\">\n",
       "      <th></th>\n",
       "      <th>Entreupeneur Profile</th>\n",
       "      <th>2016 Rank</th>\n",
       "      <th>Company</th>\n",
       "      <th>Category Detail</th>\n",
       "      <th>Franchise 500 Rank</th>\n",
       "      <th>Initial Investment</th>\n",
       "      <th>High</th>\n",
       "      <th>Change In Units 1 Yr</th>\n",
       "      <th>Change In Units 3 Yr</th>\n",
       "      <th>Founded</th>\n",
       "      <th>...</th>\n",
       "      <th>Veteran Incentives</th>\n",
       "      <th>Previous Ranks</th>\n",
       "      <th>Highest Rank</th>\n",
       "      <th>Lowest Rank</th>\n",
       "      <th>Where Seeking Franchisees</th>\n",
       "      <th>Operations</th>\n",
       "      <th>Percentage1</th>\n",
       "      <th>Units1</th>\n",
       "      <th>Percentage3</th>\n",
       "      <th>Units3</th>\n",
       "    </tr>\n",
       "  </thead>\n",
       "  <tbody>\n",
       "    <tr>\n",
       "      <th>0</th>\n",
       "      <td>https://www.entrepreneur.com/franchises/jimmyj...</td>\n",
       "      <td>1</td>\n",
       "      <td>Jimmy John's Sandwiches</td>\n",
       "      <td>Sandwiches</td>\n",
       "      <td>#1 Franchise 500</td>\n",
       "      <td>325,500</td>\n",
       "      <td>555,000</td>\n",
       "      <td>+9.0% +205 UNITS</td>\n",
       "      <td>+22.5% +514 UNITS</td>\n",
       "      <td>1983</td>\n",
       "      <td>...</td>\n",
       "      <td>NaN</td>\n",
       "      <td>NaN</td>\n",
       "      <td>1.0</td>\n",
       "      <td>85.0</td>\n",
       "      <td>throughout the US</td>\n",
       "      <td>Training Onsite: 20 days;Training at headquart...</td>\n",
       "      <td>9.0</td>\n",
       "      <td>205</td>\n",
       "      <td>22.5</td>\n",
       "      <td>514</td>\n",
       "    </tr>\n",
       "    <tr>\n",
       "      <th>1</th>\n",
       "      <td>https://www.entrepreneur.com/franchises/hampto...</td>\n",
       "      <td>2</td>\n",
       "      <td>Hampton by Hilton</td>\n",
       "      <td>Midprice hotels</td>\n",
       "      <td>#2 Franchise 500</td>\n",
       "      <td>4,213,600</td>\n",
       "      <td>14,896,500</td>\n",
       "      <td>+4.4% +90 UNITS</td>\n",
       "      <td>+5.7% +117 UNITS</td>\n",
       "      <td>1983</td>\n",
       "      <td>...</td>\n",
       "      <td>NaN</td>\n",
       "      <td>NaN</td>\n",
       "      <td>1.0</td>\n",
       "      <td>48.0</td>\n",
       "      <td>worldwide</td>\n",
       "      <td>Training Onsite: varies;Training at headquarte...</td>\n",
       "      <td>4.4</td>\n",
       "      <td>90</td>\n",
       "      <td>5.7</td>\n",
       "      <td>117</td>\n",
       "    </tr>\n",
       "  </tbody>\n",
       "</table>\n",
       "<p>2 rows × 29 columns</p>\n",
       "</div>"
      ],
      "text/plain": [
       "                                Entreupeneur Profile  2016 Rank  \\\n",
       "0  https://www.entrepreneur.com/franchises/jimmyj...          1   \n",
       "1  https://www.entrepreneur.com/franchises/hampto...          2   \n",
       "\n",
       "                   Company  Category Detail Franchise 500 Rank  \\\n",
       "0  Jimmy John's Sandwiches       Sandwiches   #1 Franchise 500   \n",
       "1        Hampton by Hilton  Midprice hotels   #2 Franchise 500   \n",
       "\n",
       "  Initial Investment         High Change In Units 1 Yr Change In Units 3 Yr  \\\n",
       "0           325,500      555,000      +9.0% +205 UNITS    +22.5% +514 UNITS   \n",
       "1         4,213,600   14,896,500       +4.4% +90 UNITS     +5.7% +117 UNITS   \n",
       "\n",
       "   Founded  ... Veteran Incentives Previous Ranks Highest Rank Lowest Rank  \\\n",
       "0     1983  ...                NaN            NaN          1.0        85.0   \n",
       "1     1983  ...                NaN            NaN          1.0        48.0   \n",
       "\n",
       "  Where Seeking Franchisees  \\\n",
       "0         throughout the US   \n",
       "1                 worldwide   \n",
       "\n",
       "                                          Operations Percentage1 Units1  \\\n",
       "0  Training Onsite: 20 days;Training at headquart...         9.0    205   \n",
       "1  Training Onsite: varies;Training at headquarte...         4.4     90   \n",
       "\n",
       "  Percentage3 Units3  \n",
       "0        22.5    514  \n",
       "1         5.7    117  \n",
       "\n",
       "[2 rows x 29 columns]"
      ]
     },
     "execution_count": 8,
     "metadata": {},
     "output_type": "execute_result"
    }
   ],
   "source": [
    "df['Percentage1'] = df['Percentage1'].str.replace('+', '')\n",
    "df['Units1'] = df['Units1'].str.replace('+', '')\n",
    "df['Percentage3'] = df['Percentage3'].str.replace('+', '')\n",
    "df['Units3'] = df['Units3'].str.replace('+', '')\n",
    "df.head(2)"
   ]
  },
  {
   "cell_type": "code",
   "execution_count": 9,
   "id": "5b8da5b8-75c2-4911-9402-07a359a57170",
   "metadata": {},
   "outputs": [],
   "source": [
    "## Let's search for 'nulls'"
   ]
  },
  {
   "cell_type": "code",
   "execution_count": 10,
   "id": "99811ff4-6d88-490a-8d45-c04ebef640e3",
   "metadata": {},
   "outputs": [
    {
     "data": {
      "text/html": [
       "<div>\n",
       "<style scoped>\n",
       "    .dataframe tbody tr th:only-of-type {\n",
       "        vertical-align: middle;\n",
       "    }\n",
       "\n",
       "    .dataframe tbody tr th {\n",
       "        vertical-align: top;\n",
       "    }\n",
       "\n",
       "    .dataframe thead th {\n",
       "        text-align: right;\n",
       "    }\n",
       "</style>\n",
       "<table border=\"1\" class=\"dataframe\">\n",
       "  <thead>\n",
       "    <tr style=\"text-align: right;\">\n",
       "      <th></th>\n",
       "      <th>nulls</th>\n",
       "    </tr>\n",
       "  </thead>\n",
       "  <tbody>\n",
       "    <tr>\n",
       "      <th>Entreupeneur Profile</th>\n",
       "      <td>0</td>\n",
       "    </tr>\n",
       "    <tr>\n",
       "      <th>2016 Rank</th>\n",
       "      <td>0</td>\n",
       "    </tr>\n",
       "    <tr>\n",
       "      <th>Company</th>\n",
       "      <td>0</td>\n",
       "    </tr>\n",
       "    <tr>\n",
       "      <th>Category Detail</th>\n",
       "      <td>0</td>\n",
       "    </tr>\n",
       "    <tr>\n",
       "      <th>Franchise 500 Rank</th>\n",
       "      <td>0</td>\n",
       "    </tr>\n",
       "    <tr>\n",
       "      <th>Initial Investment</th>\n",
       "      <td>0</td>\n",
       "    </tr>\n",
       "    <tr>\n",
       "      <th>High</th>\n",
       "      <td>1</td>\n",
       "    </tr>\n",
       "    <tr>\n",
       "      <th>Change In Units 1 Yr</th>\n",
       "      <td>134</td>\n",
       "    </tr>\n",
       "    <tr>\n",
       "      <th>Change In Units 3 Yr</th>\n",
       "      <td>117</td>\n",
       "    </tr>\n",
       "    <tr>\n",
       "      <th>Founded</th>\n",
       "      <td>0</td>\n",
       "    </tr>\n",
       "    <tr>\n",
       "      <th>Franchising Since</th>\n",
       "      <td>0</td>\n",
       "    </tr>\n",
       "    <tr>\n",
       "      <th>Corporate Address</th>\n",
       "      <td>0</td>\n",
       "    </tr>\n",
       "    <tr>\n",
       "      <th>Ceo</th>\n",
       "      <td>0</td>\n",
       "    </tr>\n",
       "    <tr>\n",
       "      <th>Parent Company</th>\n",
       "      <td>248</td>\n",
       "    </tr>\n",
       "    <tr>\n",
       "      <th>About</th>\n",
       "      <td>55</td>\n",
       "    </tr>\n",
       "    <tr>\n",
       "      <th>Net Worth Requirement</th>\n",
       "      <td>94</td>\n",
       "    </tr>\n",
       "    <tr>\n",
       "      <th>Liquid Cash Requirement</th>\n",
       "      <td>52</td>\n",
       "    </tr>\n",
       "    <tr>\n",
       "      <th>Initial Franchise Fee</th>\n",
       "      <td>6</td>\n",
       "    </tr>\n",
       "    <tr>\n",
       "      <th>Financing Options</th>\n",
       "      <td>41</td>\n",
       "    </tr>\n",
       "    <tr>\n",
       "      <th>Veteran Incentives</th>\n",
       "      <td>151</td>\n",
       "    </tr>\n",
       "    <tr>\n",
       "      <th>Previous Ranks</th>\n",
       "      <td>367</td>\n",
       "    </tr>\n",
       "    <tr>\n",
       "      <th>Highest Rank</th>\n",
       "      <td>132</td>\n",
       "    </tr>\n",
       "    <tr>\n",
       "      <th>Lowest Rank</th>\n",
       "      <td>132</td>\n",
       "    </tr>\n",
       "    <tr>\n",
       "      <th>Where Seeking Franchisees</th>\n",
       "      <td>128</td>\n",
       "    </tr>\n",
       "    <tr>\n",
       "      <th>Operations</th>\n",
       "      <td>9</td>\n",
       "    </tr>\n",
       "    <tr>\n",
       "      <th>Percentage1</th>\n",
       "      <td>134</td>\n",
       "    </tr>\n",
       "    <tr>\n",
       "      <th>Units1</th>\n",
       "      <td>134</td>\n",
       "    </tr>\n",
       "    <tr>\n",
       "      <th>Percentage3</th>\n",
       "      <td>117</td>\n",
       "    </tr>\n",
       "    <tr>\n",
       "      <th>Units3</th>\n",
       "      <td>117</td>\n",
       "    </tr>\n",
       "  </tbody>\n",
       "</table>\n",
       "</div>"
      ],
      "text/plain": [
       "                           nulls\n",
       "Entreupeneur Profile           0\n",
       "2016 Rank                      0\n",
       "Company                        0\n",
       "Category Detail                0\n",
       "Franchise 500 Rank             0\n",
       "Initial Investment             0\n",
       "High                           1\n",
       "Change In Units 1 Yr         134\n",
       "Change In Units 3 Yr         117\n",
       "Founded                        0\n",
       "Franchising Since              0\n",
       "Corporate Address              0\n",
       "Ceo                            0\n",
       "Parent Company               248\n",
       "About                         55\n",
       "Net Worth Requirement         94\n",
       "Liquid Cash Requirement       52\n",
       "Initial Franchise Fee          6\n",
       "Financing Options             41\n",
       "Veteran Incentives           151\n",
       "Previous Ranks               367\n",
       "Highest Rank                 132\n",
       "Lowest Rank                  132\n",
       "Where Seeking Franchisees    128\n",
       "Operations                     9\n",
       "Percentage1                  134\n",
       "Units1                       134\n",
       "Percentage3                  117\n",
       "Units3                       117"
      ]
     },
     "execution_count": 10,
     "metadata": {},
     "output_type": "execute_result"
    }
   ],
   "source": [
    "df.isnull().sum().to_frame('nulls')"
   ]
  },
  {
   "cell_type": "markdown",
   "id": "05e0dc6c-df21-4901-9ea4-f2e015f7f27c",
   "metadata": {},
   "source": [
    "## We have nulls in our data, we need to get rid of them so that we can make a correlation."
   ]
  },
  {
   "cell_type": "code",
   "execution_count": 11,
   "id": "0a15da29-c455-429e-87d0-18c9e8735e91",
   "metadata": {},
   "outputs": [
    {
     "data": {
      "text/html": [
       "<div>\n",
       "<style scoped>\n",
       "    .dataframe tbody tr th:only-of-type {\n",
       "        vertical-align: middle;\n",
       "    }\n",
       "\n",
       "    .dataframe tbody tr th {\n",
       "        vertical-align: top;\n",
       "    }\n",
       "\n",
       "    .dataframe thead th {\n",
       "        text-align: right;\n",
       "    }\n",
       "</style>\n",
       "<table border=\"1\" class=\"dataframe\">\n",
       "  <thead>\n",
       "    <tr style=\"text-align: right;\">\n",
       "      <th></th>\n",
       "      <th>index</th>\n",
       "      <th>Franchise 500 Rank</th>\n",
       "      <th>Company</th>\n",
       "      <th>Percentage1</th>\n",
       "      <th>Units1</th>\n",
       "      <th>Initial Franchise Fee</th>\n",
       "    </tr>\n",
       "  </thead>\n",
       "  <tbody>\n",
       "    <tr>\n",
       "      <th>0</th>\n",
       "      <td>0</td>\n",
       "      <td>#1 Franchise 500</td>\n",
       "      <td>Jimmy John's Sandwiches</td>\n",
       "      <td>9.0</td>\n",
       "      <td>205</td>\n",
       "      <td>35,000</td>\n",
       "    </tr>\n",
       "    <tr>\n",
       "      <th>1</th>\n",
       "      <td>1</td>\n",
       "      <td>#2 Franchise 500</td>\n",
       "      <td>Hampton by Hilton</td>\n",
       "      <td>4.4</td>\n",
       "      <td>90</td>\n",
       "      <td>75,000</td>\n",
       "    </tr>\n",
       "  </tbody>\n",
       "</table>\n",
       "</div>"
      ],
      "text/plain": [
       "   index Franchise 500 Rank                  Company Percentage1 Units1  \\\n",
       "0      0   #1 Franchise 500  Jimmy John's Sandwiches         9.0    205   \n",
       "1      1   #2 Franchise 500        Hampton by Hilton         4.4     90   \n",
       "\n",
       "  Initial Franchise Fee  \n",
       "0               35,000   \n",
       "1               75,000   "
      ]
     },
     "execution_count": 11,
     "metadata": {},
     "output_type": "execute_result"
    }
   ],
   "source": [
    "new_df_1yr = df[['Franchise 500 Rank','Company', 'Percentage1', 'Units1', 'Initial Franchise Fee']].dropna().reset_index()\n",
    "new_df_3yr = df[['Franchise 500 Rank','Company', 'Percentage3', 'Units3', 'Initial Franchise Fee']].dropna().reset_index()\n",
    "new_df_1yr.head(2)"
   ]
  },
  {
   "cell_type": "markdown",
   "id": "8b54aa38-f7df-4de0-b5e0-92cb77a2002a",
   "metadata": {},
   "source": [
    "Checking typs"
   ]
  },
  {
   "cell_type": "code",
   "execution_count": 12,
   "id": "868aaf4f-db1f-4e3e-9a34-43e39f01a40a",
   "metadata": {},
   "outputs": [
    {
     "name": "stdout",
     "output_type": "stream",
     "text": [
      "<class 'pandas.core.frame.DataFrame'>\n",
      "RangeIndex: 362 entries, 0 to 361\n",
      "Data columns (total 6 columns):\n",
      " #   Column                 Non-Null Count  Dtype \n",
      "---  ------                 --------------  ----- \n",
      " 0   index                  362 non-null    int64 \n",
      " 1   Franchise 500 Rank     362 non-null    object\n",
      " 2   Company                362 non-null    object\n",
      " 3   Percentage1            362 non-null    object\n",
      " 4   Units1                 362 non-null    object\n",
      " 5   Initial Franchise Fee  362 non-null    object\n",
      "dtypes: int64(1), object(5)\n",
      "memory usage: 17.1+ KB\n"
     ]
    }
   ],
   "source": [
    "new_df_1yr.info()\n",
    "#sns.regplot(data=new_df_1yr, x='Initial Franchise Fee', y='Units1')"
   ]
  },
  {
   "cell_type": "markdown",
   "id": "2291cc51-eef8-416b-abe4-87b655254ff8",
   "metadata": {},
   "source": [
    "I need to change obeject into integers"
   ]
  },
  {
   "cell_type": "code",
   "execution_count": 13,
   "id": "9fc4a8ad-92f0-42d7-a9b2-de41ac50b479",
   "metadata": {},
   "outputs": [
    {
     "data": {
      "text/plain": [
       "(362, 6)"
      ]
     },
     "execution_count": 13,
     "metadata": {},
     "output_type": "execute_result"
    }
   ],
   "source": [
    "new_df_1yr.shape"
   ]
  },
  {
   "cell_type": "code",
   "execution_count": 14,
   "id": "760be5ab-2bfb-4fcf-b1b6-a668619e68ad",
   "metadata": {},
   "outputs": [
    {
     "ename": "ValueError",
     "evalue": "invalid literal for int() with base 10: '35,000 '",
     "output_type": "error",
     "traceback": [
      "\u001b[0;31m---------------------------------------------------------------------------\u001b[0m",
      "\u001b[0;31mValueError\u001b[0m                                Traceback (most recent call last)",
      "\u001b[0;32m/var/folders/83/q0czyh392sg4dhb55y_9m5300000gn/T/ipykernel_3216/1688956242.py\u001b[0m in \u001b[0;36m<module>\u001b[0;34m\u001b[0m\n\u001b[1;32m      2\u001b[0m \u001b[0mnew_df_1yr\u001b[0m\u001b[0;34m[\u001b[0m\u001b[0;34m'Percentage1'\u001b[0m\u001b[0;34m]\u001b[0m \u001b[0;34m=\u001b[0m \u001b[0mnew_df_1yr\u001b[0m\u001b[0;34m[\u001b[0m\u001b[0;34m'Percentage1'\u001b[0m\u001b[0;34m]\u001b[0m\u001b[0;34m.\u001b[0m\u001b[0mfillna\u001b[0m\u001b[0;34m(\u001b[0m\u001b[0;36m0\u001b[0m\u001b[0;34m)\u001b[0m\u001b[0;34m.\u001b[0m\u001b[0mastype\u001b[0m\u001b[0;34m(\u001b[0m\u001b[0mfloat\u001b[0m\u001b[0;34m)\u001b[0m\u001b[0;34m\u001b[0m\u001b[0;34m\u001b[0m\u001b[0m\n\u001b[1;32m      3\u001b[0m \u001b[0;31m#new_df_1yr['Initial Franchise Fee'] = df['Initial Franchise Fee'].str.replace(',', '').astype(int)\u001b[0m\u001b[0;34m\u001b[0m\u001b[0;34m\u001b[0m\u001b[0m\n\u001b[0;32m----> 4\u001b[0;31m \u001b[0mnew_df_1yr\u001b[0m\u001b[0;34m[\u001b[0m\u001b[0;34m'Initial Franchise Fee'\u001b[0m\u001b[0;34m]\u001b[0m \u001b[0;34m=\u001b[0m \u001b[0mnew_df_1yr\u001b[0m\u001b[0;34m[\u001b[0m\u001b[0;34m'Initial Franchise Fee'\u001b[0m\u001b[0;34m]\u001b[0m\u001b[0;34m.\u001b[0m\u001b[0mastype\u001b[0m\u001b[0;34m(\u001b[0m\u001b[0mint\u001b[0m\u001b[0;34m)\u001b[0m\u001b[0;34m\u001b[0m\u001b[0;34m\u001b[0m\u001b[0m\n\u001b[0m",
      "\u001b[0;32m~/opt/anaconda3/lib/python3.9/site-packages/pandas/core/generic.py\u001b[0m in \u001b[0;36mastype\u001b[0;34m(self, dtype, copy, errors)\u001b[0m\n\u001b[1;32m   5910\u001b[0m         \u001b[0;32melse\u001b[0m\u001b[0;34m:\u001b[0m\u001b[0;34m\u001b[0m\u001b[0;34m\u001b[0m\u001b[0m\n\u001b[1;32m   5911\u001b[0m             \u001b[0;31m# else, only a single dtype is given\u001b[0m\u001b[0;34m\u001b[0m\u001b[0;34m\u001b[0m\u001b[0m\n\u001b[0;32m-> 5912\u001b[0;31m             \u001b[0mnew_data\u001b[0m \u001b[0;34m=\u001b[0m \u001b[0mself\u001b[0m\u001b[0;34m.\u001b[0m\u001b[0m_mgr\u001b[0m\u001b[0;34m.\u001b[0m\u001b[0mastype\u001b[0m\u001b[0;34m(\u001b[0m\u001b[0mdtype\u001b[0m\u001b[0;34m=\u001b[0m\u001b[0mdtype\u001b[0m\u001b[0;34m,\u001b[0m \u001b[0mcopy\u001b[0m\u001b[0;34m=\u001b[0m\u001b[0mcopy\u001b[0m\u001b[0;34m,\u001b[0m \u001b[0merrors\u001b[0m\u001b[0;34m=\u001b[0m\u001b[0merrors\u001b[0m\u001b[0;34m)\u001b[0m\u001b[0;34m\u001b[0m\u001b[0;34m\u001b[0m\u001b[0m\n\u001b[0m\u001b[1;32m   5913\u001b[0m             \u001b[0;32mreturn\u001b[0m \u001b[0mself\u001b[0m\u001b[0;34m.\u001b[0m\u001b[0m_constructor\u001b[0m\u001b[0;34m(\u001b[0m\u001b[0mnew_data\u001b[0m\u001b[0;34m)\u001b[0m\u001b[0;34m.\u001b[0m\u001b[0m__finalize__\u001b[0m\u001b[0;34m(\u001b[0m\u001b[0mself\u001b[0m\u001b[0;34m,\u001b[0m \u001b[0mmethod\u001b[0m\u001b[0;34m=\u001b[0m\u001b[0;34m\"astype\"\u001b[0m\u001b[0;34m)\u001b[0m\u001b[0;34m\u001b[0m\u001b[0;34m\u001b[0m\u001b[0m\n\u001b[1;32m   5914\u001b[0m \u001b[0;34m\u001b[0m\u001b[0m\n",
      "\u001b[0;32m~/opt/anaconda3/lib/python3.9/site-packages/pandas/core/internals/managers.py\u001b[0m in \u001b[0;36mastype\u001b[0;34m(self, dtype, copy, errors)\u001b[0m\n\u001b[1;32m    417\u001b[0m \u001b[0;34m\u001b[0m\u001b[0m\n\u001b[1;32m    418\u001b[0m     \u001b[0;32mdef\u001b[0m \u001b[0mastype\u001b[0m\u001b[0;34m(\u001b[0m\u001b[0mself\u001b[0m\u001b[0;34m:\u001b[0m \u001b[0mT\u001b[0m\u001b[0;34m,\u001b[0m \u001b[0mdtype\u001b[0m\u001b[0;34m,\u001b[0m \u001b[0mcopy\u001b[0m\u001b[0;34m:\u001b[0m \u001b[0mbool\u001b[0m \u001b[0;34m=\u001b[0m \u001b[0;32mFalse\u001b[0m\u001b[0;34m,\u001b[0m \u001b[0merrors\u001b[0m\u001b[0;34m:\u001b[0m \u001b[0mstr\u001b[0m \u001b[0;34m=\u001b[0m \u001b[0;34m\"raise\"\u001b[0m\u001b[0;34m)\u001b[0m \u001b[0;34m->\u001b[0m \u001b[0mT\u001b[0m\u001b[0;34m:\u001b[0m\u001b[0;34m\u001b[0m\u001b[0;34m\u001b[0m\u001b[0m\n\u001b[0;32m--> 419\u001b[0;31m         \u001b[0;32mreturn\u001b[0m \u001b[0mself\u001b[0m\u001b[0;34m.\u001b[0m\u001b[0mapply\u001b[0m\u001b[0;34m(\u001b[0m\u001b[0;34m\"astype\"\u001b[0m\u001b[0;34m,\u001b[0m \u001b[0mdtype\u001b[0m\u001b[0;34m=\u001b[0m\u001b[0mdtype\u001b[0m\u001b[0;34m,\u001b[0m \u001b[0mcopy\u001b[0m\u001b[0;34m=\u001b[0m\u001b[0mcopy\u001b[0m\u001b[0;34m,\u001b[0m \u001b[0merrors\u001b[0m\u001b[0;34m=\u001b[0m\u001b[0merrors\u001b[0m\u001b[0;34m)\u001b[0m\u001b[0;34m\u001b[0m\u001b[0;34m\u001b[0m\u001b[0m\n\u001b[0m\u001b[1;32m    420\u001b[0m \u001b[0;34m\u001b[0m\u001b[0m\n\u001b[1;32m    421\u001b[0m     def convert(\n",
      "\u001b[0;32m~/opt/anaconda3/lib/python3.9/site-packages/pandas/core/internals/managers.py\u001b[0m in \u001b[0;36mapply\u001b[0;34m(self, f, align_keys, ignore_failures, **kwargs)\u001b[0m\n\u001b[1;32m    302\u001b[0m                     \u001b[0mapplied\u001b[0m \u001b[0;34m=\u001b[0m \u001b[0mb\u001b[0m\u001b[0;34m.\u001b[0m\u001b[0mapply\u001b[0m\u001b[0;34m(\u001b[0m\u001b[0mf\u001b[0m\u001b[0;34m,\u001b[0m \u001b[0;34m**\u001b[0m\u001b[0mkwargs\u001b[0m\u001b[0;34m)\u001b[0m\u001b[0;34m\u001b[0m\u001b[0;34m\u001b[0m\u001b[0m\n\u001b[1;32m    303\u001b[0m                 \u001b[0;32melse\u001b[0m\u001b[0;34m:\u001b[0m\u001b[0;34m\u001b[0m\u001b[0;34m\u001b[0m\u001b[0m\n\u001b[0;32m--> 304\u001b[0;31m                     \u001b[0mapplied\u001b[0m \u001b[0;34m=\u001b[0m \u001b[0mgetattr\u001b[0m\u001b[0;34m(\u001b[0m\u001b[0mb\u001b[0m\u001b[0;34m,\u001b[0m \u001b[0mf\u001b[0m\u001b[0;34m)\u001b[0m\u001b[0;34m(\u001b[0m\u001b[0;34m**\u001b[0m\u001b[0mkwargs\u001b[0m\u001b[0;34m)\u001b[0m\u001b[0;34m\u001b[0m\u001b[0;34m\u001b[0m\u001b[0m\n\u001b[0m\u001b[1;32m    305\u001b[0m             \u001b[0;32mexcept\u001b[0m \u001b[0;34m(\u001b[0m\u001b[0mTypeError\u001b[0m\u001b[0;34m,\u001b[0m \u001b[0mNotImplementedError\u001b[0m\u001b[0;34m)\u001b[0m\u001b[0;34m:\u001b[0m\u001b[0;34m\u001b[0m\u001b[0;34m\u001b[0m\u001b[0m\n\u001b[1;32m    306\u001b[0m                 \u001b[0;32mif\u001b[0m \u001b[0;32mnot\u001b[0m \u001b[0mignore_failures\u001b[0m\u001b[0;34m:\u001b[0m\u001b[0;34m\u001b[0m\u001b[0;34m\u001b[0m\u001b[0m\n",
      "\u001b[0;32m~/opt/anaconda3/lib/python3.9/site-packages/pandas/core/internals/blocks.py\u001b[0m in \u001b[0;36mastype\u001b[0;34m(self, dtype, copy, errors)\u001b[0m\n\u001b[1;32m    578\u001b[0m         \u001b[0mvalues\u001b[0m \u001b[0;34m=\u001b[0m \u001b[0mself\u001b[0m\u001b[0;34m.\u001b[0m\u001b[0mvalues\u001b[0m\u001b[0;34m\u001b[0m\u001b[0;34m\u001b[0m\u001b[0m\n\u001b[1;32m    579\u001b[0m \u001b[0;34m\u001b[0m\u001b[0m\n\u001b[0;32m--> 580\u001b[0;31m         \u001b[0mnew_values\u001b[0m \u001b[0;34m=\u001b[0m \u001b[0mastype_array_safe\u001b[0m\u001b[0;34m(\u001b[0m\u001b[0mvalues\u001b[0m\u001b[0;34m,\u001b[0m \u001b[0mdtype\u001b[0m\u001b[0;34m,\u001b[0m \u001b[0mcopy\u001b[0m\u001b[0;34m=\u001b[0m\u001b[0mcopy\u001b[0m\u001b[0;34m,\u001b[0m \u001b[0merrors\u001b[0m\u001b[0;34m=\u001b[0m\u001b[0merrors\u001b[0m\u001b[0;34m)\u001b[0m\u001b[0;34m\u001b[0m\u001b[0;34m\u001b[0m\u001b[0m\n\u001b[0m\u001b[1;32m    581\u001b[0m \u001b[0;34m\u001b[0m\u001b[0m\n\u001b[1;32m    582\u001b[0m         \u001b[0mnew_values\u001b[0m \u001b[0;34m=\u001b[0m \u001b[0mmaybe_coerce_values\u001b[0m\u001b[0;34m(\u001b[0m\u001b[0mnew_values\u001b[0m\u001b[0;34m)\u001b[0m\u001b[0;34m\u001b[0m\u001b[0;34m\u001b[0m\u001b[0m\n",
      "\u001b[0;32m~/opt/anaconda3/lib/python3.9/site-packages/pandas/core/dtypes/cast.py\u001b[0m in \u001b[0;36mastype_array_safe\u001b[0;34m(values, dtype, copy, errors)\u001b[0m\n\u001b[1;32m   1290\u001b[0m \u001b[0;34m\u001b[0m\u001b[0m\n\u001b[1;32m   1291\u001b[0m     \u001b[0;32mtry\u001b[0m\u001b[0;34m:\u001b[0m\u001b[0;34m\u001b[0m\u001b[0;34m\u001b[0m\u001b[0m\n\u001b[0;32m-> 1292\u001b[0;31m         \u001b[0mnew_values\u001b[0m \u001b[0;34m=\u001b[0m \u001b[0mastype_array\u001b[0m\u001b[0;34m(\u001b[0m\u001b[0mvalues\u001b[0m\u001b[0;34m,\u001b[0m \u001b[0mdtype\u001b[0m\u001b[0;34m,\u001b[0m \u001b[0mcopy\u001b[0m\u001b[0;34m=\u001b[0m\u001b[0mcopy\u001b[0m\u001b[0;34m)\u001b[0m\u001b[0;34m\u001b[0m\u001b[0;34m\u001b[0m\u001b[0m\n\u001b[0m\u001b[1;32m   1293\u001b[0m     \u001b[0;32mexcept\u001b[0m \u001b[0;34m(\u001b[0m\u001b[0mValueError\u001b[0m\u001b[0;34m,\u001b[0m \u001b[0mTypeError\u001b[0m\u001b[0;34m)\u001b[0m\u001b[0;34m:\u001b[0m\u001b[0;34m\u001b[0m\u001b[0;34m\u001b[0m\u001b[0m\n\u001b[1;32m   1294\u001b[0m         \u001b[0;31m# e.g. astype_nansafe can fail on object-dtype of strings\u001b[0m\u001b[0;34m\u001b[0m\u001b[0;34m\u001b[0m\u001b[0m\n",
      "\u001b[0;32m~/opt/anaconda3/lib/python3.9/site-packages/pandas/core/dtypes/cast.py\u001b[0m in \u001b[0;36mastype_array\u001b[0;34m(values, dtype, copy)\u001b[0m\n\u001b[1;32m   1235\u001b[0m \u001b[0;34m\u001b[0m\u001b[0m\n\u001b[1;32m   1236\u001b[0m     \u001b[0;32melse\u001b[0m\u001b[0;34m:\u001b[0m\u001b[0;34m\u001b[0m\u001b[0;34m\u001b[0m\u001b[0m\n\u001b[0;32m-> 1237\u001b[0;31m         \u001b[0mvalues\u001b[0m \u001b[0;34m=\u001b[0m \u001b[0mastype_nansafe\u001b[0m\u001b[0;34m(\u001b[0m\u001b[0mvalues\u001b[0m\u001b[0;34m,\u001b[0m \u001b[0mdtype\u001b[0m\u001b[0;34m,\u001b[0m \u001b[0mcopy\u001b[0m\u001b[0;34m=\u001b[0m\u001b[0mcopy\u001b[0m\u001b[0;34m)\u001b[0m\u001b[0;34m\u001b[0m\u001b[0;34m\u001b[0m\u001b[0m\n\u001b[0m\u001b[1;32m   1238\u001b[0m \u001b[0;34m\u001b[0m\u001b[0m\n\u001b[1;32m   1239\u001b[0m     \u001b[0;31m# in pandas we don't store numpy str dtypes, so convert to object\u001b[0m\u001b[0;34m\u001b[0m\u001b[0;34m\u001b[0m\u001b[0m\n",
      "\u001b[0;32m~/opt/anaconda3/lib/python3.9/site-packages/pandas/core/dtypes/cast.py\u001b[0m in \u001b[0;36mastype_nansafe\u001b[0;34m(arr, dtype, copy, skipna)\u001b[0m\n\u001b[1;32m   1152\u001b[0m         \u001b[0;31m# work around NumPy brokenness, #1987\u001b[0m\u001b[0;34m\u001b[0m\u001b[0;34m\u001b[0m\u001b[0m\n\u001b[1;32m   1153\u001b[0m         \u001b[0;32mif\u001b[0m \u001b[0mnp\u001b[0m\u001b[0;34m.\u001b[0m\u001b[0missubdtype\u001b[0m\u001b[0;34m(\u001b[0m\u001b[0mdtype\u001b[0m\u001b[0;34m.\u001b[0m\u001b[0mtype\u001b[0m\u001b[0;34m,\u001b[0m \u001b[0mnp\u001b[0m\u001b[0;34m.\u001b[0m\u001b[0minteger\u001b[0m\u001b[0;34m)\u001b[0m\u001b[0;34m:\u001b[0m\u001b[0;34m\u001b[0m\u001b[0;34m\u001b[0m\u001b[0m\n\u001b[0;32m-> 1154\u001b[0;31m             \u001b[0;32mreturn\u001b[0m \u001b[0mlib\u001b[0m\u001b[0;34m.\u001b[0m\u001b[0mastype_intsafe\u001b[0m\u001b[0;34m(\u001b[0m\u001b[0marr\u001b[0m\u001b[0;34m,\u001b[0m \u001b[0mdtype\u001b[0m\u001b[0;34m)\u001b[0m\u001b[0;34m\u001b[0m\u001b[0;34m\u001b[0m\u001b[0m\n\u001b[0m\u001b[1;32m   1155\u001b[0m \u001b[0;34m\u001b[0m\u001b[0m\n\u001b[1;32m   1156\u001b[0m         \u001b[0;31m# if we have a datetime/timedelta array of objects\u001b[0m\u001b[0;34m\u001b[0m\u001b[0;34m\u001b[0m\u001b[0m\n",
      "\u001b[0;32m~/opt/anaconda3/lib/python3.9/site-packages/pandas/_libs/lib.pyx\u001b[0m in \u001b[0;36mpandas._libs.lib.astype_intsafe\u001b[0;34m()\u001b[0m\n",
      "\u001b[0;31mValueError\u001b[0m: invalid literal for int() with base 10: '35,000 '"
     ]
    }
   ],
   "source": [
    "new_df_1yr['Units1'] = new_df_1yr['Units1'].fillna(0).astype(int)\n",
    "new_df_1yr['Percentage1'] = new_df_1yr['Percentage1'].fillna(0).astype(float)\n",
    "#new_df_1yr['Initial Franchise Fee'] = df['Initial Franchise Fee'].str.replace(',', '').astype(int)\n",
    "new_df_1yr['Initial Franchise Fee'] = new_df_1yr['Initial Franchise Fee'].astype(int)\n"
   ]
  },
  {
   "cell_type": "markdown",
   "id": "b89af394-554d-4870-8271-9cc154f3132e",
   "metadata": {},
   "source": [
    "# can't change 'franchise fee' into intereger, how come?"
   ]
  },
  {
   "cell_type": "code",
   "execution_count": 17,
   "id": "80b45748-e8f5-4be1-9e85-d0a219e11c04",
   "metadata": {},
   "outputs": [
    {
     "data": {
      "text/plain": [
       "array(['35,000 ', '75,000 ', '29,500 ', '46,000 ', '15,000 ', '45,000 ',\n",
       "       '10,000 - 1,000,000', '40,000 - 90,000', '19,000 - 37,500',\n",
       "       '25,000 ', '25,000 - 35,000', '40,000 ', '25,000 - 59,500',\n",
       "       '29,950 ', '15,000 - 37,500', '7,500 - 15,000', '2,520 - 44,000',\n",
       "       '495 - 10,495', '9,630 - 35,700', '20,000 ', '30,000 ',\n",
       "       '20,000 - 61,900', '6,000 ', '50,000 - 75,000', '4,590 - 32,348',\n",
       "       '21,500 ', '12,500 ', '19,950 ', '36,500 - 50,500', '495 - 9,800',\n",
       "       '25,000 - 25,500', '500 - 3,500', '18,500 ', '21,000 - 45,500',\n",
       "       '55,000 ', '3,000 ', '37,500 ', '49,500 ', '26,900 ', '1,250 ',\n",
       "       '20,000 - 33,750', '44,500 ', '995 - 46,995', '18,000 - 55,000',\n",
       "       '40,950 - 64,950', '14,900 ', '15,500 ', '3,975 - 39,750',\n",
       "       '18,900 ', '25,000 - 400,000', '57,500 ', '35,000 - 70,000',\n",
       "       '135,000 ', '24,500 ', '48,500 ', '15,000 - 40,000',\n",
       "       '12,500 - 25,000', '29,500 - 120,000', '15,000 - 35,000',\n",
       "       '39,900 - 49,900', '70,000 ', '26,000 - 27,500', '34,900 - 59,900',\n",
       "       '3,000 - 22,000', '24,750 - 49,500', '39,900 ', '44,700 - 59,700',\n",
       "       '8,500 ', '22,000 - 32,000', '15,000 - 85,000', '27,000 ',\n",
       "       '1,000 - 50,000', '46,500 ', '32,000 - 57,000', '9,500 - 28,500',\n",
       "       '22,500 ', '50,000 ', '7,200 - 45,000', '49,000 - 61,500',\n",
       "       '49,000 ', '39,000 ', '17,000 - 68,000', '24,000 ', '5,000 ',\n",
       "       '59,000 ', '32,000 - 65,000', '22,000 ', '49,900 ',\n",
       "       '25,000 - 55,000', '19,500 ', '44,900 - 49,900', '22,500 - 42,500',\n",
       "       '44,900 ', '33,900 ', '29,000 ', '15,000 - 30,000', '38,000 ',\n",
       "       '75,000 - 150,000', '40,000 - 50,000', '18,750 - 25,000',\n",
       "       '2,700 - 53,800', '20,000 - 50,000', '69,000 ', '10,000 ',\n",
       "       '42,000 ', '27,500 ', '15,000 - 27,500', '49,950 ',\n",
       "       '11,250 - 22,500', '10,000 - 30,000', '9,450 - 44,000', '120,000 ',\n",
       "       '19,750 - 34,750', '15,200 - 72,000', '125,000 ',\n",
       "       '15,000 - 20,000', '25,000 - 40,000', '29,900 - 44,900', '52,500 ',\n",
       "       '50,000 - 60,000', '25,000 - 49,000', '33,000 ', '32,475 - 64,950',\n",
       "       '17,600 - 65,000', '24,900 - 83,000', '15,000 - 42,000', '38,500 ',\n",
       "       '60,000 ', '7,500 ', '29,000 - 40,000', '10,000 - 100,000',\n",
       "       '24,000 - 55,000', '15,000 - 25,000', '11,400 - 31,900',\n",
       "       '14,900 - 39,900', '130,000 ', '6,999 ', '31,500 ',\n",
       "       '17,500 - 39,500', '34,500 ', '44,750 ', '20,000 - 35,000',\n",
       "       '20,000 - 25,000', '47,500 ', '48,000 ', '49,999 ', '30 ',\n",
       "       '59,900 ', '22,000 - 37,200', '34,900 ', '9,500 ', '37,750 ',\n",
       "       '5,900 - 150,500', '96,995 ', '19,900 ', '32,500 ', '32,000 ',\n",
       "       '8,000 ', '39,950 ', '6,000 - 30,000', '40,500 ', '46,450 ',\n",
       "       '17,500 ', '128,000 ', '5,000 - 35,000', '29,900 ',\n",
       "       '39,700 - 49,700', '45,000 - 85,000', '39,500 '], dtype=object)"
      ]
     },
     "execution_count": 17,
     "metadata": {},
     "output_type": "execute_result"
    }
   ],
   "source": [
    "new_df_1yr['Initial Franchise Fee'].unique()"
   ]
  },
  {
   "cell_type": "markdown",
   "id": "7069a3e9-56e2-45cf-9899-f5aec915b884",
   "metadata": {},
   "source": [
    "Some of the tuples are in a form of range instead of values."
   ]
  },
  {
   "cell_type": "code",
   "execution_count": 19,
   "id": "a2c85a3d-d756-453e-8d86-849d8ea811c7",
   "metadata": {},
   "outputs": [],
   "source": [
    "# solution, we will transform all range values into singular values\n",
    "def process_franchise_fee(value):\n",
    "    if '-' in str(value):\n",
    "        # Handle ranges by calculating the average\n",
    "        start, end = map(float, value.replace(',', '').split('-'))\n",
    "        return (start + end) / 2\n",
    "    else:\n",
    "        # Keep numeric values as is\n",
    "        return float(value.replace(',', ''))\n",
    "\n",
    "# Create a new column 'Processed_Franchise_Fee' based on the custom function\n",
    "new_df_1yr['Processed_Franchise_Fee'] = new_df_1yr['Initial Franchise Fee'].apply(process_franchise_fee)\n",
    "\n",
    "# Display the modified DataFrame\n"
   ]
  },
  {
   "cell_type": "code",
   "execution_count": 20,
   "id": "2a4a265f-5bac-4cd0-8d05-908e42586b6c",
   "metadata": {},
   "outputs": [],
   "source": [
    "new_df_1yr['Processed_Franchise_Fee'] = new_df_1yr['Processed_Franchise_Fee'].astype(int)"
   ]
  },
  {
   "cell_type": "code",
   "execution_count": 21,
   "id": "f4ee0bfd-8006-431e-82bc-f669a18aa6ec",
   "metadata": {},
   "outputs": [
    {
     "name": "stdout",
     "output_type": "stream",
     "text": [
      "<class 'pandas.core.frame.DataFrame'>\n",
      "RangeIndex: 362 entries, 0 to 361\n",
      "Data columns (total 7 columns):\n",
      " #   Column                   Non-Null Count  Dtype  \n",
      "---  ------                   --------------  -----  \n",
      " 0   index                    362 non-null    int64  \n",
      " 1   Franchise 500 Rank       362 non-null    object \n",
      " 2   Company                  362 non-null    object \n",
      " 3   Percentage1              362 non-null    float64\n",
      " 4   Units1                   362 non-null    int64  \n",
      " 5   Initial Franchise Fee    362 non-null    object \n",
      " 6   Processed_Franchise_Fee  362 non-null    int64  \n",
      "dtypes: float64(1), int64(3), object(3)\n",
      "memory usage: 19.9+ KB\n"
     ]
    }
   ],
   "source": [
    "new_df_1yr.info()"
   ]
  },
  {
   "cell_type": "markdown",
   "id": "c4fe1b0c-e012-4189-9072-5f5ce5ddb606",
   "metadata": {},
   "source": [
    " Processed_Franchise_Fee is now int!"
   ]
  },
  {
   "cell_type": "code",
   "execution_count": 23,
   "id": "73cb7dc7-f0ab-4391-883c-2dc7694d5e5b",
   "metadata": {},
   "outputs": [
    {
     "data": {
      "text/html": [
       "<div>\n",
       "<style scoped>\n",
       "    .dataframe tbody tr th:only-of-type {\n",
       "        vertical-align: middle;\n",
       "    }\n",
       "\n",
       "    .dataframe tbody tr th {\n",
       "        vertical-align: top;\n",
       "    }\n",
       "\n",
       "    .dataframe thead th {\n",
       "        text-align: right;\n",
       "    }\n",
       "</style>\n",
       "<table border=\"1\" class=\"dataframe\">\n",
       "  <thead>\n",
       "    <tr style=\"text-align: right;\">\n",
       "      <th></th>\n",
       "      <th>index</th>\n",
       "      <th>Franchise 500 Rank</th>\n",
       "      <th>Company</th>\n",
       "      <th>Percentage3</th>\n",
       "      <th>Units3</th>\n",
       "      <th>Initial Franchise Fee</th>\n",
       "      <th>Processed_Franchise_Fee</th>\n",
       "    </tr>\n",
       "  </thead>\n",
       "  <tbody>\n",
       "    <tr>\n",
       "      <th>0</th>\n",
       "      <td>0</td>\n",
       "      <td>#1 Franchise 500</td>\n",
       "      <td>Jimmy John's Sandwiches</td>\n",
       "      <td>22.5</td>\n",
       "      <td>514</td>\n",
       "      <td>35,000</td>\n",
       "      <td>35000.0</td>\n",
       "    </tr>\n",
       "    <tr>\n",
       "      <th>1</th>\n",
       "      <td>1</td>\n",
       "      <td>#2 Franchise 500</td>\n",
       "      <td>Hampton by Hilton</td>\n",
       "      <td>5.7</td>\n",
       "      <td>117</td>\n",
       "      <td>75,000</td>\n",
       "      <td>75000.0</td>\n",
       "    </tr>\n",
       "    <tr>\n",
       "      <th>2</th>\n",
       "      <td>2</td>\n",
       "      <td>#3 Franchise 500</td>\n",
       "      <td>Supercuts</td>\n",
       "      <td>8.8</td>\n",
       "      <td>225</td>\n",
       "      <td>29,500</td>\n",
       "      <td>29500.0</td>\n",
       "    </tr>\n",
       "    <tr>\n",
       "      <th>3</th>\n",
       "      <td>3</td>\n",
       "      <td>#4 Franchise 500</td>\n",
       "      <td>Servpro</td>\n",
       "      <td>4.7</td>\n",
       "      <td>80</td>\n",
       "      <td>46,000</td>\n",
       "      <td>46000.0</td>\n",
       "    </tr>\n",
       "    <tr>\n",
       "      <th>4</th>\n",
       "      <td>4</td>\n",
       "      <td>#5 Franchise 500</td>\n",
       "      <td>Subway</td>\n",
       "      <td>9.4</td>\n",
       "      <td>4149</td>\n",
       "      <td>15,000</td>\n",
       "      <td>15000.0</td>\n",
       "    </tr>\n",
       "  </tbody>\n",
       "</table>\n",
       "</div>"
      ],
      "text/plain": [
       "   index Franchise 500 Rank                  Company Percentage3 Units3  \\\n",
       "0      0   #1 Franchise 500  Jimmy John's Sandwiches        22.5    514   \n",
       "1      1   #2 Franchise 500        Hampton by Hilton         5.7    117   \n",
       "2      2   #3 Franchise 500                Supercuts         8.8    225   \n",
       "3      3   #4 Franchise 500                  Servpro         4.7     80   \n",
       "4      4   #5 Franchise 500                   Subway         9.4   4149   \n",
       "\n",
       "  Initial Franchise Fee  Processed_Franchise_Fee  \n",
       "0               35,000                   35000.0  \n",
       "1               75,000                   75000.0  \n",
       "2               29,500                   29500.0  \n",
       "3               46,000                   46000.0  \n",
       "4               15,000                   15000.0  "
      ]
     },
     "execution_count": 23,
     "metadata": {},
     "output_type": "execute_result"
    }
   ],
   "source": [
    "# solution, we will transform all range values into singular values\n",
    "def process_franchise_fee(value):\n",
    "    if '-' in str(value):\n",
    "        # Handle ranges by calculating the average\n",
    "        start, end = map(float, value.replace(',', '').split('-'))\n",
    "        return (start + end) / 2\n",
    "    else:\n",
    "        # Keep numeric values as is\n",
    "        return float(value.replace(',', ''))\n",
    "\n",
    "# Create a new column 'Processed_Franchise_Fee' based on the custom function\n",
    "new_df_3yr['Processed_Franchise_Fee'] = new_df_1yr['Initial Franchise Fee'].apply(process_franchise_fee)\n",
    "\n",
    "# Display the modified DataFrame\n",
    "new_df_3yr.head(5)"
   ]
  },
  {
   "cell_type": "code",
   "execution_count": 25,
   "id": "683454cf-99de-4c42-8779-b6622457ffa9",
   "metadata": {},
   "outputs": [
    {
     "name": "stdout",
     "output_type": "stream",
     "text": [
      "<class 'pandas.core.frame.DataFrame'>\n",
      "RangeIndex: 378 entries, 0 to 377\n",
      "Data columns (total 7 columns):\n",
      " #   Column                   Non-Null Count  Dtype  \n",
      "---  ------                   --------------  -----  \n",
      " 0   index                    378 non-null    int64  \n",
      " 1   Franchise 500 Rank       378 non-null    object \n",
      " 2   Company                  378 non-null    object \n",
      " 3   Percentage3              378 non-null    float64\n",
      " 4   Units3                   378 non-null    int64  \n",
      " 5   Initial Franchise Fee    378 non-null    object \n",
      " 6   Processed_Franchise_Fee  362 non-null    float64\n",
      "dtypes: float64(2), int64(2), object(3)\n",
      "memory usage: 20.8+ KB\n"
     ]
    }
   ],
   "source": [
    "new_df_3yr.info()"
   ]
  },
  {
   "cell_type": "code",
   "execution_count": 26,
   "id": "9da97a2f-2e6a-4a32-964d-972b786534ca",
   "metadata": {},
   "outputs": [],
   "source": [
    "new_df_3yr['Units3'] = new_df_3yr['Units3'].fillna(0).astype(int)\n",
    "new_df_3yr['Percentage3'] = new_df_3yr['Percentage3'].fillna(0).astype(float)"
   ]
  },
  {
   "cell_type": "code",
   "execution_count": 28,
   "id": "3ecaa0db-bb3d-4f29-8817-867c6f79626c",
   "metadata": {},
   "outputs": [
    {
     "data": {
      "image/png": "[encoded data removed]",
      "text/plain": [
       "<Figure size 640x480 with 1 Axes>"
      ]
     },
     "metadata": {},
     "output_type": "display_data"
    }
   ],
   "source": [
    "sns.scatterplot(data = new_df_3yr, x = 'Processed_Franchise_Fee', y = 'Units3')\n",
    "\n",
    "# Set x-axis to logarithmic scale\n",
    "plt.xscale('log')\n",
    "plt.yscale('log')\n",
    "\n",
    "# Show the plot\n",
    "plt.show()"
   ]
  },
  {
   "cell_type": "code",
   "execution_count": 30,
   "id": "6ec2ed7e-723e-4f88-89cf-506eec13e7ed",
   "metadata": {},
   "outputs": [
    {
     "data": {
      "image/png": "[encoded data removed]",
      "text/plain": [
       "<Figure size 1200x600 with 2 Axes>"
      ]
     },
     "metadata": {},
     "output_type": "display_data"
    }
   ],
   "source": [
    "# Create a figure with two subplots\n",
    "fig, (ax1, ax2) = plt.subplots(1, 2, figsize=(12, 6))\n",
    "\n",
    "# Scatter plot 1\n",
    "sns.scatterplot(data=new_df_1yr, x= 'Processed_Franchise_Fee', y='Units1', ax=ax1)\n",
    "ax1.set_title('Scatter Plot 1')\n",
    "ax1.set_xlabel('Processed_Franchise_Fee (log scale)')\n",
    "ax1.set_ylabel('Units3 (log scale)')\n",
    "ax1.set_xscale('log')\n",
    "ax1.set_yscale('log')\n",
    "\n",
    "# Scatter plot 2\n",
    "sns.scatterplot(data=new_df_3yr, x='Processed_Franchise_Fee', y='Units3', ax=ax2)\n",
    "ax2.set_title('Scatter Plot 2')\n",
    "ax2.set_xlabel('Processed_Franchise_Fee (log scale)')\n",
    "ax2.set_ylabel('Another_Y_Column (log scale)')\n",
    "ax2.set_xscale('log')\n",
    "ax2.set_yscale('log')\n",
    "\n",
    "# Adjust layout and show the plots\n",
    "plt.tight_layout()\n",
    "plt.show()\n"
   ]
  },
  {
   "cell_type": "code",
   "execution_count": null,
   "id": "dfc488bd-2891-4295-954b-67ee904ad9cf",
   "metadata": {},
   "outputs": [],
   "source": []
  },
  {
   "cell_type": "code",
   "execution_count": null,
   "id": "21486bb5-90de-4680-af2c-29d854171290",
   "metadata": {},
   "outputs": [],
   "source": []
  },
  {
   "cell_type": "code",
   "execution_count": null,
   "id": "08dfbf3a-3fd4-4150-9801-830901bf6aef",
   "metadata": {},
   "outputs": [],
   "source": []
  },
  {
   "cell_type": "code",
   "execution_count": null,
   "id": "d49ff192-30ea-4f37-8302-587ed604f44e",
   "metadata": {},
   "outputs": [],
   "source": []
  },
  {
   "cell_type": "code",
   "execution_count": 22,
   "id": "049554eb-7ac0-4fca-b5e9-1be00b330c34",
   "metadata": {},
   "outputs": [
    {
     "data": {
      "image/png": "[encoded data removed]",
      "text/plain": [
       "<Figure size 640x480 with 1 Axes>"
      ]
     },
     "metadata": {},
     "output_type": "display_data"
    }
   ],
   "source": [
    "sns.scatterplot(data = new_df_1yr, x = 'Processed_Franchise_Fee', y = 'Units1')\n",
    "\n",
    "# Set x-axis to logarithmic scale\n",
    "plt.xscale('log')\n",
    "plt.yscale('log')\n",
    "\n",
    "# Show the plot\n",
    "plt.show()"
   ]
  },
  {
   "cell_type": "code",
   "execution_count": null,
   "id": "e1c9b13b-91e2-4b7a-8e46-e144628c34ed",
   "metadata": {},
   "outputs": [],
   "source": []
  },
  {
   "cell_type": "code",
   "execution_count": null,
   "id": "0bc18a54-ba6d-4f5b-9b7e-8cfbaa99f112",
   "metadata": {},
   "outputs": [],
   "source": []
  },
  {
   "cell_type": "code",
   "execution_count": null,
   "id": "eadf863d-183d-44c1-9fcd-4a06fb0be986",
   "metadata": {},
   "outputs": [],
   "source": []
  },
  {
   "cell_type": "code",
   "execution_count": null,
   "id": "d2fcdd06-5f37-44f1-81e2-9bd35216dfea",
   "metadata": {},
   "outputs": [],
   "source": []
  },
  {
   "cell_type": "markdown",
   "id": "76b66f4e-a054-48fa-b0ff-8c4df14f2746",
   "metadata": {},
   "source": [
    "Time to check if we have any 'null's"
   ]
  },
  {
   "cell_type": "markdown",
   "id": "0903aaee-331a-40ec-9e32-900ef13710e3",
   "metadata": {},
   "source": [
    "Cleaning the data"
   ]
  },
  {
   "cell_type": "code",
   "execution_count": null,
   "id": "d48170bb-90c2-42eb-9536-3ca1d177aeaf",
   "metadata": {},
   "outputs": [],
   "source": []
  }
 ],
 "metadata": {
  "kernelspec": {
   "display_name": "Python 3 (ipykernel)",
   "language": "python",
   "name": "python3"
  },
  "language_info": {
   "codemirror_mode": {
    "name": "ipython",
    "version": 3
   },
   "file_extension": ".py",
   "mimetype": "text/x-python",
   "name": "python",
   "nbconvert_exporter": "python",
   "pygments_lexer": "ipython3",
   "version": "3.9.13"
  }
 },
 "nbformat": 4,
 "nbformat_minor": 5
}
